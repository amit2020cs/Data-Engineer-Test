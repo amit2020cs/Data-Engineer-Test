{
 "cells": [
  {
   "cell_type": "code",
<<<<<<< HEAD
   "execution_count": 1,
=======
   "execution_count": 39,
>>>>>>> master
   "metadata": {},
   "outputs": [],
   "source": [
    "import pandas as pd\n",
    "import matplotlib.pyplot as plt\n",
<<<<<<< HEAD
    "import seaborn as sns"
=======
    "import seaborn as sns\n",
    "import numpy as np\n",
    "\n",
    "import pandas_datareader.data as pdr\n",
    "from datetime import datetime"
>>>>>>> master
   ]
  },
  {
   "cell_type": "code",
<<<<<<< HEAD
   "execution_count": 2,
=======
   "execution_count": 40,
>>>>>>> master
   "metadata": {},
   "outputs": [],
   "source": [
    "df = pd.read_csv(\"traders_data.csv\")"
   ]
  },
  {
   "cell_type": "code",
<<<<<<< HEAD
   "execution_count": 3,
=======
   "execution_count": 41,
>>>>>>> master
   "metadata": {},
   "outputs": [
    {
     "data": {
      "text/html": [
       "<div>\n",
       "<style scoped>\n",
       "    .dataframe tbody tr th:only-of-type {\n",
       "        vertical-align: middle;\n",
       "    }\n",
       "\n",
       "    .dataframe tbody tr th {\n",
       "        vertical-align: top;\n",
       "    }\n",
       "\n",
       "    .dataframe thead th {\n",
       "        text-align: right;\n",
       "    }\n",
       "</style>\n",
       "<table border=\"1\" class=\"dataframe\">\n",
       "  <thead>\n",
       "    <tr style=\"text-align: right;\">\n",
       "      <th></th>\n",
       "      <th>countryCode</th>\n",
       "      <th>firstName</th>\n",
       "      <th>lastName</th>\n",
       "      <th>traderId</th>\n",
       "      <th>stockSymbol</th>\n",
       "      <th>stockName</th>\n",
       "      <th>tradeId</th>\n",
       "      <th>price</th>\n",
       "      <th>volume</th>\n",
       "      <th>tradeDatetime</th>\n",
       "    </tr>\n",
       "  </thead>\n",
       "  <tbody>\n",
       "    <tr>\n",
       "      <th>0</th>\n",
       "      <td>TV</td>\n",
       "      <td>Vanessa</td>\n",
       "      <td>Green</td>\n",
       "      <td>MUVGtYHdeMdauAxzEJvt</td>\n",
       "      <td>FB</td>\n",
       "      <td>Facebook</td>\n",
       "      <td>NaN</td>\n",
       "      <td>1701.760000</td>\n",
       "      <td>58.0</td>\n",
       "      <td>2020-04-03 07:03:32</td>\n",
       "    </tr>\n",
       "    <tr>\n",
       "      <th>1</th>\n",
       "      <td>NaN</td>\n",
       "      <td>NaN</td>\n",
       "      <td>NaN</td>\n",
       "      <td>NaN</td>\n",
       "      <td>FB</td>\n",
       "      <td>Facebook</td>\n",
       "      <td>P5-3756422C</td>\n",
       "      <td>NaN</td>\n",
       "      <td>98.0</td>\n",
       "      <td>2020-01-13 08:29:53</td>\n",
       "    </tr>\n",
       "    <tr>\n",
       "      <th>2</th>\n",
       "      <td>UZ</td>\n",
       "      <td>Brandi</td>\n",
       "      <td>Robbins</td>\n",
       "      <td>JTzVqzzIkFlrYUQbhnOR</td>\n",
       "      <td>AMZN</td>\n",
       "      <td>Amazon</td>\n",
       "      <td>X0-7401234c</td>\n",
       "      <td>1857.630560</td>\n",
       "      <td>NaN</td>\n",
       "      <td>2020-07-16 07:18:39</td>\n",
       "    </tr>\n",
       "    <tr>\n",
       "      <th>3</th>\n",
       "      <td>BT</td>\n",
       "      <td>Allison</td>\n",
       "      <td>Davis</td>\n",
       "      <td>TzqyQTQjZGeLZuJqlLaQ</td>\n",
       "      <td>AMZN</td>\n",
       "      <td>Amazon</td>\n",
       "      <td>K3-3189326K</td>\n",
       "      <td>2078.440300</td>\n",
       "      <td>32.0</td>\n",
       "      <td>2020-07-07 13:59:03</td>\n",
       "    </tr>\n",
       "    <tr>\n",
       "      <th>4</th>\n",
       "      <td>SZ</td>\n",
       "      <td>Blake</td>\n",
       "      <td>Martin</td>\n",
       "      <td>WVcMKILUHtBkEahrPLrG</td>\n",
       "      <td>FB</td>\n",
       "      <td>Facebook</td>\n",
       "      <td>U4-1266883G</td>\n",
       "      <td>1809.600000</td>\n",
       "      <td>212.0</td>\n",
       "      <td>2020-08-01 02:57:54</td>\n",
       "    </tr>\n",
       "    <tr>\n",
       "      <th>...</th>\n",
       "      <td>...</td>\n",
       "      <td>...</td>\n",
       "      <td>...</td>\n",
       "      <td>...</td>\n",
       "      <td>...</td>\n",
       "      <td>...</td>\n",
       "      <td>...</td>\n",
       "      <td>...</td>\n",
       "      <td>...</td>\n",
       "      <td>...</td>\n",
       "    </tr>\n",
       "    <tr>\n",
       "      <th>995</th>\n",
       "      <td>KZ</td>\n",
       "      <td>Vicki</td>\n",
       "      <td>Burgess</td>\n",
       "      <td>deTclcaRrihIYAUADJPN</td>\n",
       "      <td>AMZN</td>\n",
       "      <td>Amazon</td>\n",
       "      <td>j3-8758429Q</td>\n",
       "      <td>1554.962000</td>\n",
       "      <td>243.0</td>\n",
       "      <td>2020-03-12 19:42:37</td>\n",
       "    </tr>\n",
       "    <tr>\n",
       "      <th>996</th>\n",
       "      <td>NaN</td>\n",
       "      <td>NaN</td>\n",
       "      <td>NaN</td>\n",
       "      <td>NaN</td>\n",
       "      <td>AMZN</td>\n",
       "      <td>Amazon</td>\n",
       "      <td>K3-7867680F</td>\n",
       "      <td>2285.000000</td>\n",
       "      <td>4.0</td>\n",
       "      <td>2020-07-21 05:36:12</td>\n",
       "    </tr>\n",
       "    <tr>\n",
       "      <th>997</th>\n",
       "      <td>KZ</td>\n",
       "      <td>Vicki</td>\n",
       "      <td>Burgess</td>\n",
       "      <td>deTclcaRrihIYAUADJPN</td>\n",
       "      <td>FB</td>\n",
       "      <td>Facebook</td>\n",
       "      <td>S8-7693720h</td>\n",
       "      <td>1935.760000</td>\n",
       "      <td>223.0</td>\n",
       "      <td>2020-02-05 23:28:16</td>\n",
       "    </tr>\n",
       "    <tr>\n",
       "      <th>998</th>\n",
       "      <td>CV</td>\n",
       "      <td>April</td>\n",
       "      <td>Floyd</td>\n",
       "      <td>stOzTFyGrgJGPgVPVTJQ</td>\n",
       "      <td>AMZN</td>\n",
       "      <td>Amazon</td>\n",
       "      <td>z1-1234462u</td>\n",
       "      <td>2039.582452</td>\n",
       "      <td>52.0</td>\n",
       "      <td>2020-06-24 13:28:57</td>\n",
       "    </tr>\n",
       "    <tr>\n",
       "      <th>999</th>\n",
       "      <td>LA</td>\n",
       "      <td>Brandon</td>\n",
       "      <td>Berry</td>\n",
       "      <td>xIZVPeFzGRmMglPrQfhK</td>\n",
       "      <td>FB</td>\n",
       "      <td>Facebook</td>\n",
       "      <td>g7-2872947d</td>\n",
       "      <td>2332.000000</td>\n",
       "      <td>85.0</td>\n",
       "      <td>2020-03-25 04:07:42</td>\n",
       "    </tr>\n",
       "  </tbody>\n",
       "</table>\n",
       "<p>1000 rows × 10 columns</p>\n",
       "</div>"
      ],
      "text/plain": [
       "    countryCode firstName lastName              traderId stockSymbol  \\\n",
       "0            TV   Vanessa    Green  MUVGtYHdeMdauAxzEJvt          FB   \n",
       "1           NaN       NaN      NaN                   NaN          FB   \n",
       "2            UZ    Brandi  Robbins  JTzVqzzIkFlrYUQbhnOR        AMZN   \n",
       "3            BT   Allison    Davis  TzqyQTQjZGeLZuJqlLaQ        AMZN   \n",
       "4            SZ     Blake   Martin  WVcMKILUHtBkEahrPLrG          FB   \n",
       "..          ...       ...      ...                   ...         ...   \n",
       "995          KZ     Vicki  Burgess  deTclcaRrihIYAUADJPN        AMZN   \n",
       "996         NaN       NaN      NaN                   NaN        AMZN   \n",
       "997          KZ     Vicki  Burgess  deTclcaRrihIYAUADJPN          FB   \n",
       "998          CV     April    Floyd  stOzTFyGrgJGPgVPVTJQ        AMZN   \n",
       "999          LA   Brandon    Berry  xIZVPeFzGRmMglPrQfhK          FB   \n",
       "\n",
       "    stockName      tradeId        price  volume        tradeDatetime  \n",
       "0    Facebook          NaN  1701.760000    58.0  2020-04-03 07:03:32  \n",
       "1    Facebook  P5-3756422C          NaN    98.0  2020-01-13 08:29:53  \n",
       "2      Amazon  X0-7401234c  1857.630560     NaN  2020-07-16 07:18:39  \n",
       "3      Amazon  K3-3189326K  2078.440300    32.0  2020-07-07 13:59:03  \n",
       "4    Facebook  U4-1266883G  1809.600000   212.0  2020-08-01 02:57:54  \n",
       "..        ...          ...          ...     ...                  ...  \n",
       "995    Amazon  j3-8758429Q  1554.962000   243.0  2020-03-12 19:42:37  \n",
       "996    Amazon  K3-7867680F  2285.000000     4.0  2020-07-21 05:36:12  \n",
       "997  Facebook  S8-7693720h  1935.760000   223.0  2020-02-05 23:28:16  \n",
       "998    Amazon  z1-1234462u  2039.582452    52.0  2020-06-24 13:28:57  \n",
       "999  Facebook  g7-2872947d  2332.000000    85.0  2020-03-25 04:07:42  \n",
       "\n",
       "[1000 rows x 10 columns]"
      ]
     },
<<<<<<< HEAD
     "execution_count": 3,
=======
     "execution_count": 41,
>>>>>>> master
     "metadata": {},
     "output_type": "execute_result"
    }
   ],
   "source": [
    "df"
   ]
  },
  {
   "cell_type": "code",
<<<<<<< HEAD
   "execution_count": 4,
=======
   "execution_count": 42,
>>>>>>> master
   "metadata": {},
   "outputs": [
    {
     "name": "stdout",
     "output_type": "stream",
     "text": [
      "<class 'pandas.core.frame.DataFrame'>\n",
      "RangeIndex: 1000 entries, 0 to 999\n",
      "Data columns (total 10 columns):\n",
      " #   Column         Non-Null Count  Dtype  \n",
      "---  ------         --------------  -----  \n",
      " 0   countryCode    795 non-null    object \n",
      " 1   firstName      795 non-null    object \n",
      " 2   lastName       795 non-null    object \n",
      " 3   traderId       795 non-null    object \n",
      " 4   stockSymbol    913 non-null    object \n",
      " 5   stockName      913 non-null    object \n",
      " 6   tradeId        909 non-null    object \n",
      " 7   price          898 non-null    float64\n",
      " 8   volume         895 non-null    float64\n",
      " 9   tradeDatetime  902 non-null    object \n",
      "dtypes: float64(2), object(8)\n",
      "memory usage: 78.2+ KB\n"
     ]
    }
   ],
   "source": [
    "df.info()"
   ]
  },
  {
   "cell_type": "markdown",
   "metadata": {},
   "source": [
    " \n",
    "1) Dataset contains details of 1000 trading details in 10 features.  \n",
    "2) Every feature have missing values.   \n",
    "3) tradeDatetime data type is string that need to convert to datetime.    \n",
    "4) Memory Usage: 78.2 KB   \n",
    "\n"
   ]
  },
  {
   "cell_type": "markdown",
   "metadata": {},
   "source": [
    "## Date Preprocessing"
   ]
  },
  {
   "cell_type": "code",
<<<<<<< HEAD
   "execution_count": 5,
=======
   "execution_count": 43,
>>>>>>> master
   "metadata": {},
   "outputs": [],
   "source": [
    "\n",
    "# Updating datatype of 'tradeDatetime' from string to datetime\n",
    "df['tradeDatetime'] = pd.to_datetime(df['tradeDatetime'])\n",
    "\n",
    "# Removing the time stamp from the datatime \n",
    "df['tradeDate'] = df['tradeDatetime'].apply(lambda x: pd.to_datetime(x.date()))\n",
    "\n",
    "df['tradeDate'] = pd.to_datetime(df['tradeDate'])\n",
    "# traders_data['volume'] = traders_data['volume'].astype(int)\n",
    "\n"
   ]
  },
  {
   "cell_type": "code",
<<<<<<< HEAD
   "execution_count": 6,
=======
   "execution_count": 44,
>>>>>>> master
   "metadata": {},
   "outputs": [
    {
     "data": {
      "text/plain": [
       "countryCode       19\n",
       "firstName         20\n",
       "lastName          20\n",
       "traderId          20\n",
       "stockSymbol        3\n",
       "stockName          3\n",
       "tradeId          909\n",
       "price            879\n",
       "volume           286\n",
       "tradeDatetime    902\n",
       "tradeDate        206\n",
       "dtype: int64"
      ]
     },
<<<<<<< HEAD
     "execution_count": 6,
=======
     "execution_count": 44,
>>>>>>> master
     "metadata": {},
     "output_type": "execute_result"
    }
   ],
   "source": [
    "# To understand which column is categorical and which one is Continuous\n",
    "df.nunique()"
   ]
  },
  {
   "cell_type": "code",
<<<<<<< HEAD
   "execution_count": 7,
=======
   "execution_count": 45,
>>>>>>> master
   "metadata": {},
   "outputs": [
    {
     "data": {
      "text/html": [
       "<div>\n",
       "<style scoped>\n",
       "    .dataframe tbody tr th:only-of-type {\n",
       "        vertical-align: middle;\n",
       "    }\n",
       "\n",
       "    .dataframe tbody tr th {\n",
       "        vertical-align: top;\n",
       "    }\n",
       "\n",
       "    .dataframe thead th {\n",
       "        text-align: right;\n",
       "    }\n",
       "</style>\n",
       "<table border=\"1\" class=\"dataframe\">\n",
       "  <thead>\n",
       "    <tr style=\"text-align: right;\">\n",
       "      <th></th>\n",
       "      <th>price</th>\n",
       "      <th>volume</th>\n",
       "    </tr>\n",
       "  </thead>\n",
       "  <tbody>\n",
       "    <tr>\n",
       "      <th>count</th>\n",
       "      <td>898.000000</td>\n",
       "      <td>895.000000</td>\n",
       "    </tr>\n",
       "    <tr>\n",
       "      <th>mean</th>\n",
       "      <td>1992.943372</td>\n",
       "      <td>148.887151</td>\n",
       "    </tr>\n",
       "    <tr>\n",
       "      <th>std</th>\n",
       "      <td>288.685224</td>\n",
       "      <td>86.763078</td>\n",
       "    </tr>\n",
       "    <tr>\n",
       "      <th>min</th>\n",
       "      <td>1501.000000</td>\n",
       "      <td>0.000000</td>\n",
       "    </tr>\n",
       "    <tr>\n",
       "      <th>25%</th>\n",
       "      <td>1751.314618</td>\n",
       "      <td>70.000000</td>\n",
       "    </tr>\n",
       "    <tr>\n",
       "      <th>50%</th>\n",
       "      <td>1988.310480</td>\n",
       "      <td>148.000000</td>\n",
       "    </tr>\n",
       "    <tr>\n",
       "      <th>75%</th>\n",
       "      <td>2235.975207</td>\n",
       "      <td>221.000000</td>\n",
       "    </tr>\n",
       "    <tr>\n",
       "      <th>max</th>\n",
       "      <td>2499.120000</td>\n",
       "      <td>300.000000</td>\n",
       "    </tr>\n",
       "  </tbody>\n",
       "</table>\n",
       "</div>"
      ],
      "text/plain": [
       "             price      volume\n",
       "count   898.000000  895.000000\n",
       "mean   1992.943372  148.887151\n",
       "std     288.685224   86.763078\n",
       "min    1501.000000    0.000000\n",
       "25%    1751.314618   70.000000\n",
       "50%    1988.310480  148.000000\n",
       "75%    2235.975207  221.000000\n",
       "max    2499.120000  300.000000"
      ]
     },
<<<<<<< HEAD
     "execution_count": 7,
=======
     "execution_count": 45,
>>>>>>> master
     "metadata": {},
     "output_type": "execute_result"
    }
   ],
   "source": [
    "df.describe()"
   ]
  },
  {
   "cell_type": "markdown",
   "metadata": {},
   "source": [
    "## Data Cleaning"
   ]
  },
  {
   "cell_type": "markdown",
   "metadata": {},
   "source": [
    "Trade dataset contains trading details for Amazon, Facebook, Tesla, however our objective is to find suspicous data for Amazon for Feb and March month. So dataset need to remove the unnecessary data from traders dataset."
   ]
  },
  {
   "cell_type": "code",
<<<<<<< HEAD
   "execution_count": 8,
=======
   "execution_count": 46,
>>>>>>> master
   "metadata": {},
   "outputs": [
    {
     "name": "stdout",
     "output_type": "stream",
     "text": [
      "Traders dataset start date :  2020-01-06 00:00:00\n",
      "Traders dataset end date :  2020-08-01 00:00:00\n"
     ]
    }
   ],
   "source": [
    "# Date range of traders dataset\n",
    "print('Traders dataset start date : ',df['tradeDate'].min())\n",
    "print('Traders dataset end date : ',df['tradeDate'].max())"
   ]
  },
  {
   "cell_type": "code",
<<<<<<< HEAD
   "execution_count": 9,
=======
   "execution_count": 47,
>>>>>>> master
   "metadata": {},
   "outputs": [
    {
     "data": {
      "text/plain": [
       "countryCode      205\n",
       "firstName        205\n",
       "lastName         205\n",
       "traderId         205\n",
       "stockSymbol       87\n",
       "stockName         87\n",
       "tradeId           91\n",
       "price            102\n",
       "volume           105\n",
       "tradeDatetime     98\n",
       "tradeDate         98\n",
       "dtype: int64"
      ]
     },
<<<<<<< HEAD
     "execution_count": 9,
=======
     "execution_count": 47,
>>>>>>> master
     "metadata": {},
     "output_type": "execute_result"
    }
   ],
   "source": [
    "df.isnull().sum()"
   ]
  },
  {
   "cell_type": "code",
<<<<<<< HEAD
   "execution_count": 10,
=======
   "execution_count": 48,
>>>>>>> master
   "metadata": {},
   "outputs": [
    {
     "data": {
      "text/plain": [
       "(1000, 11)"
      ]
     },
<<<<<<< HEAD
     "execution_count": 10,
=======
     "execution_count": 48,
>>>>>>> master
     "metadata": {},
     "output_type": "execute_result"
    }
   ],
   "source": [
    "df.shape"
   ]
  },
  {
   "cell_type": "code",
<<<<<<< HEAD
   "execution_count": 11,
=======
   "execution_count": 49,
>>>>>>> master
   "metadata": {},
   "outputs": [],
   "source": [
    "\n",
    "# Define function to filter dataset\n",
    "def filter_trader_data(df, company, start_date, end_date):\n",
    "    '''\n",
    "    Returns the filtered trader data based on company, start date and end date.\n",
    "\n",
    "    Parameters:\n",
    "        df (dataframe):The trader data which is to be filter.\n",
    "        company (string): Company by which trader data need to filter.\n",
    "        start_date (string) : Start date from where trader data require.\n",
    "        end_date (string) : End date till trader data require.\n",
    "        \n",
    "\n",
    "    Returns:\n",
    "        The trader dataframe which gets filtered.   \n",
    "    '''\n",
    "    return df[(df['stockSymbol']==company) & \n",
    "                            (df['tradeDate']>=start_date) & \n",
    "                            (df['tradeDatetime']<=end_date)].reset_index(drop=True)\n",
    "\n"
   ]
  },
  {
   "cell_type": "code",
<<<<<<< HEAD
   "execution_count": 12,
=======
   "execution_count": 50,
>>>>>>> master
   "metadata": {},
   "outputs": [],
   "source": [
    "traders_data = filter_trader_data(df,'AMZN','2020-02-01','2020-03-31')"
   ]
  },
  {
   "cell_type": "code",
<<<<<<< HEAD
   "execution_count": 13,
=======
   "execution_count": 51,
>>>>>>> master
   "metadata": {},
   "outputs": [
    {
     "data": {
      "text/plain": [
       "(98, 11)"
      ]
     },
<<<<<<< HEAD
     "execution_count": 13,
=======
     "execution_count": 51,
>>>>>>> master
     "metadata": {},
     "output_type": "execute_result"
    }
   ],
   "source": [
    "traders_data.shape"
   ]
  },
  {
   "cell_type": "code",
<<<<<<< HEAD
   "execution_count": 14,
=======
   "execution_count": 52,
>>>>>>> master
   "metadata": {
    "scrolled": true
   },
   "outputs": [
    {
     "name": "stdout",
     "output_type": "stream",
     "text": [
      "<class 'pandas.core.frame.DataFrame'>\n",
      "RangeIndex: 98 entries, 0 to 97\n",
      "Data columns (total 11 columns):\n",
      " #   Column         Non-Null Count  Dtype         \n",
      "---  ------         --------------  -----         \n",
      " 0   countryCode    74 non-null     object        \n",
      " 1   firstName      74 non-null     object        \n",
      " 2   lastName       74 non-null     object        \n",
      " 3   traderId       74 non-null     object        \n",
      " 4   stockSymbol    98 non-null     object        \n",
      " 5   stockName      98 non-null     object        \n",
      " 6   tradeId        92 non-null     object        \n",
      " 7   price          87 non-null     float64       \n",
      " 8   volume         85 non-null     float64       \n",
      " 9   tradeDatetime  98 non-null     datetime64[ns]\n",
      " 10  tradeDate      98 non-null     datetime64[ns]\n",
      "dtypes: datetime64[ns](2), float64(2), object(7)\n",
      "memory usage: 8.5+ KB\n"
     ]
    }
   ],
   "source": [
    "traders_data.info()"
   ]
  },
  {
   "cell_type": "code",
<<<<<<< HEAD
   "execution_count": 15,
=======
   "execution_count": 53,
>>>>>>> master
   "metadata": {},
   "outputs": [
    {
     "data": {
      "text/html": [
       "<div>\n",
       "<style scoped>\n",
       "    .dataframe tbody tr th:only-of-type {\n",
       "        vertical-align: middle;\n",
       "    }\n",
       "\n",
       "    .dataframe tbody tr th {\n",
       "        vertical-align: top;\n",
       "    }\n",
       "\n",
       "    .dataframe thead th {\n",
       "        text-align: right;\n",
       "    }\n",
       "</style>\n",
       "<table border=\"1\" class=\"dataframe\">\n",
       "  <thead>\n",
       "    <tr style=\"text-align: right;\">\n",
       "      <th></th>\n",
       "      <th>Total</th>\n",
       "      <th>Percent</th>\n",
       "    </tr>\n",
       "  </thead>\n",
       "  <tbody>\n",
       "    <tr>\n",
       "      <th>traderId</th>\n",
       "      <td>24</td>\n",
       "      <td>24.489796</td>\n",
       "    </tr>\n",
       "    <tr>\n",
       "      <th>lastName</th>\n",
       "      <td>24</td>\n",
       "      <td>24.489796</td>\n",
       "    </tr>\n",
       "    <tr>\n",
       "      <th>firstName</th>\n",
       "      <td>24</td>\n",
       "      <td>24.489796</td>\n",
       "    </tr>\n",
       "    <tr>\n",
       "      <th>countryCode</th>\n",
       "      <td>24</td>\n",
       "      <td>24.489796</td>\n",
       "    </tr>\n",
       "    <tr>\n",
       "      <th>volume</th>\n",
       "      <td>13</td>\n",
       "      <td>13.265306</td>\n",
       "    </tr>\n",
       "    <tr>\n",
       "      <th>price</th>\n",
       "      <td>11</td>\n",
       "      <td>11.224490</td>\n",
       "    </tr>\n",
       "    <tr>\n",
       "      <th>tradeId</th>\n",
       "      <td>6</td>\n",
       "      <td>6.122449</td>\n",
       "    </tr>\n",
       "    <tr>\n",
       "      <th>tradeDate</th>\n",
       "      <td>0</td>\n",
       "      <td>0.000000</td>\n",
       "    </tr>\n",
       "    <tr>\n",
       "      <th>tradeDatetime</th>\n",
       "      <td>0</td>\n",
       "      <td>0.000000</td>\n",
       "    </tr>\n",
       "    <tr>\n",
       "      <th>stockName</th>\n",
       "      <td>0</td>\n",
       "      <td>0.000000</td>\n",
       "    </tr>\n",
       "    <tr>\n",
       "      <th>stockSymbol</th>\n",
       "      <td>0</td>\n",
       "      <td>0.000000</td>\n",
       "    </tr>\n",
       "  </tbody>\n",
       "</table>\n",
       "</div>"
      ],
      "text/plain": [
       "               Total    Percent\n",
       "traderId          24  24.489796\n",
       "lastName          24  24.489796\n",
       "firstName         24  24.489796\n",
       "countryCode       24  24.489796\n",
       "volume            13  13.265306\n",
       "price             11  11.224490\n",
       "tradeId            6   6.122449\n",
       "tradeDate          0   0.000000\n",
       "tradeDatetime      0   0.000000\n",
       "stockName          0   0.000000\n",
       "stockSymbol        0   0.000000"
      ]
     },
<<<<<<< HEAD
     "execution_count": 15,
=======
     "execution_count": 53,
>>>>>>> master
     "metadata": {},
     "output_type": "execute_result"
    }
   ],
   "source": [
    "# Find missing data and their percentage\n",
    "total = traders_data.isnull().sum().sort_values(ascending=False)\n",
    "percent = ((traders_data.isnull().sum()/traders_data.isnull().count())*100).sort_values(ascending=False)\n",
    "missing_data = pd.concat([total, percent], axis=1, keys=['Total', 'Percent'])\n",
    "missing_data.head(20)"
   ]
  },
  {
   "cell_type": "markdown",
   "metadata": {},
   "source": [
    "About 24.5% of data are missing from firstName, lastName and countryCode. It will be not effective if will impute these missing values with their mode values. So, deleting the missing values somewhat usually not the best solution. However, it can be useful when most values in a column are missing."
   ]
  },
  {
   "cell_type": "code",
<<<<<<< HEAD
   "execution_count": 16,
=======
   "execution_count": 54,
>>>>>>> master
   "metadata": {},
   "outputs": [
    {
     "name": "stdout",
     "output_type": "stream",
     "text": [
      "<class 'pandas.core.frame.DataFrame'>\n",
      "Int64Index: 55 entries, 0 to 97\n",
      "Data columns (total 11 columns):\n",
      " #   Column         Non-Null Count  Dtype         \n",
      "---  ------         --------------  -----         \n",
      " 0   countryCode    55 non-null     object        \n",
      " 1   firstName      55 non-null     object        \n",
      " 2   lastName       55 non-null     object        \n",
      " 3   traderId       55 non-null     object        \n",
      " 4   stockSymbol    55 non-null     object        \n",
      " 5   stockName      55 non-null     object        \n",
      " 6   tradeId        55 non-null     object        \n",
      " 7   price          55 non-null     float64       \n",
      " 8   volume         55 non-null     float64       \n",
      " 9   tradeDatetime  55 non-null     datetime64[ns]\n",
      " 10  tradeDate      55 non-null     datetime64[ns]\n",
      "dtypes: datetime64[ns](2), float64(2), object(7)\n",
      "memory usage: 5.2+ KB\n"
     ]
    }
   ],
   "source": [
    "\n",
    "# Deleting the missing values\n",
    "traders_data.dropna(axis=0, inplace=True)\n",
    "\n",
    "# Reset the index of traders dataset\n",
    "traders_data.reset_index(drop=True)\n",
    "\n",
    "# Finally check the summary of trader dataset\n",
    "traders_data.info()\n"
   ]
  },
  {
   "cell_type": "code",
<<<<<<< HEAD
   "execution_count": 17,
=======
   "execution_count": 55,
>>>>>>> master
   "metadata": {},
   "outputs": [
    {
     "data": {
      "text/plain": [
       "False"
      ]
     },
<<<<<<< HEAD
     "execution_count": 17,
=======
     "execution_count": 55,
>>>>>>> master
     "metadata": {},
     "output_type": "execute_result"
    }
   ],
   "source": [
    "traders_data[['tradeDate','tradeId']].isnull().values.any()"
   ]
  },
  {
   "cell_type": "code",
<<<<<<< HEAD
   "execution_count": 18,
=======
   "execution_count": 56,
>>>>>>> master
   "metadata": {},
   "outputs": [],
   "source": [
    "Columns = ['countryCode', 'firstName', 'lastName', 'traderId', 'stockSymbol',\n",
    "       'stockName', 'tradeId', 'price', 'volume', 'tradeDate']\n",
    "\n",
    "# Selecting final columns\n",
    "TradersDataClean=traders_data[Columns]"
   ]
  },
  {
   "cell_type": "code",
<<<<<<< HEAD
   "execution_count": 19,
=======
   "execution_count": 57,
>>>>>>> master
   "metadata": {},
   "outputs": [
    {
     "data": {
      "text/plain": [
       "Index(['countryCode', 'firstName', 'lastName', 'traderId', 'stockSymbol',\n",
       "       'stockName', 'tradeId'],\n",
       "      dtype='object')"
      ]
     },
<<<<<<< HEAD
     "execution_count": 19,
=======
     "execution_count": 57,
>>>>>>> master
     "metadata": {},
     "output_type": "execute_result"
    }
   ],
   "source": [
    "# TradersDataClean.nunique()\n",
    "TradersDataClean.select_dtypes(include=\"O\").columns"
   ]
  },
  {
   "cell_type": "code",
<<<<<<< HEAD
   "execution_count": 20,
=======
   "execution_count": 58,
>>>>>>> master
   "metadata": {},
   "outputs": [],
   "source": [
    "# Saving this final data for reference during deployment\n",
    "TradersDataClean.to_pickle('TradersDataClean.pkl')\n"
   ]
  },
  {
<<<<<<< HEAD
   "cell_type": "code",
   "execution_count": 21,
=======
   "cell_type": "markdown",
   "metadata": {},
   "source": [
    "# Stock Dataset"
   ]
  },
  {
   "cell_type": "markdown",
   "metadata": {},
   "source": [
    "Downloading Amazon stock data from Yahoo for the months of February and March 2020"
   ]
  },
  {
   "cell_type": "code",
   "execution_count": 79,
   "metadata": {},
   "outputs": [],
   "source": [
    "def get_stock_data(filename='stock_data.csv',stock = \"AMZN\", start_date = '2020-02-01',end_date = '2020-03-31',\n",
    "                   force_download=False):\n",
    "    \"\"\"\n",
    "    Download and cache the stock data\n",
    "    \n",
    "    Parameters\n",
    "    ----------\n",
    "    filename : string (optional)\n",
    "        location to save the data\n",
    "    stock : string (optional)\n",
    "        company name of which stock data want to download from yahoo api.\n",
    "    start_date : string (optional)\n",
    "        date from where stock data should download\n",
    "    end_date : string (optional)\n",
    "        date till where stock data should download\n",
    "    force_download : bool (optional)\n",
    "        if True, force re-download of data from Yahoo API else read from local\n",
    "        \n",
    "    Returns\n",
    "    -------\n",
    "    data : pandas.DataFrame\n",
    "        The company Stock data\n",
    "    \"\"\"\n",
    "    \n",
    "    if force_download:\n",
    "        # Grabing yahoo finance data and setting as a dataframe\n",
    "        stock_data = pdr.DataReader(AMZN, 'yahoo', start_date, end_date)\n",
    "        # Save the stock data in form of .csv to local \n",
    "        stock_data.to_csv(filename)\n",
    "        \n",
    "    # force_download is false, then read data from local\n",
    "    stock_data = pd.read_csv(filename, index_col='Date')\n",
    "\n",
    "    try:\n",
    "        stock_data.index = pd.to_datetime(stock_data.index, format='%Y-%m-%d')\n",
    "    except TypeError:\n",
    "        stock_data.index = pd.to_datetime(stock_data.index)\n",
    "\n",
    "    return stock_data\n",
    "\n"
   ]
  },
  {
   "cell_type": "code",
   "execution_count": 80,
   "metadata": {},
   "outputs": [],
   "source": [
    "\n",
    "# collect data for Amazon from 2020-02-01 to 2020-03-31\n",
    "stock_data = get_stock_data(filename='stock_data.csv',stock = \"AMZN\", \n",
    "                            start_date = '2020-02-01',end_date = '2020-03-31',force_download=False)\n",
    "\n"
   ]
  },
  {
   "cell_type": "code",
   "execution_count": 81,
>>>>>>> master
   "metadata": {},
   "outputs": [
    {
     "data": {
<<<<<<< HEAD
      "text/plain": [
       "Index(['countryCode', 'firstName', 'lastName', 'traderId', 'stockSymbol',\n",
       "       'stockName', 'tradeId'],\n",
       "      dtype='object')"
      ]
     },
     "execution_count": 21,
=======
      "text/html": [
       "<div>\n",
       "<style scoped>\n",
       "    .dataframe tbody tr th:only-of-type {\n",
       "        vertical-align: middle;\n",
       "    }\n",
       "\n",
       "    .dataframe tbody tr th {\n",
       "        vertical-align: top;\n",
       "    }\n",
       "\n",
       "    .dataframe thead th {\n",
       "        text-align: right;\n",
       "    }\n",
       "</style>\n",
       "<table border=\"1\" class=\"dataframe\">\n",
       "  <thead>\n",
       "    <tr style=\"text-align: right;\">\n",
       "      <th></th>\n",
       "      <th>High</th>\n",
       "      <th>Low</th>\n",
       "      <th>Open</th>\n",
       "      <th>Close</th>\n",
       "      <th>Volume</th>\n",
       "      <th>Adj Close</th>\n",
       "    </tr>\n",
       "    <tr>\n",
       "      <th>Date</th>\n",
       "      <th></th>\n",
       "      <th></th>\n",
       "      <th></th>\n",
       "      <th></th>\n",
       "      <th></th>\n",
       "      <th></th>\n",
       "    </tr>\n",
       "  </thead>\n",
       "  <tbody>\n",
       "    <tr>\n",
       "      <th>2020-01-31</th>\n",
       "      <td>2055.719971</td>\n",
       "      <td>2002.270020</td>\n",
       "      <td>2051.469971</td>\n",
       "      <td>2008.719971</td>\n",
       "      <td>15567300</td>\n",
       "      <td>2008.719971</td>\n",
       "    </tr>\n",
       "    <tr>\n",
       "      <th>2020-02-03</th>\n",
       "      <td>2048.500000</td>\n",
       "      <td>2000.250000</td>\n",
       "      <td>2010.599976</td>\n",
       "      <td>2004.199951</td>\n",
       "      <td>5899100</td>\n",
       "      <td>2004.199951</td>\n",
       "    </tr>\n",
       "    <tr>\n",
       "      <th>2020-02-04</th>\n",
       "      <td>2059.800049</td>\n",
       "      <td>2015.369995</td>\n",
       "      <td>2029.880005</td>\n",
       "      <td>2049.669922</td>\n",
       "      <td>5289300</td>\n",
       "      <td>2049.669922</td>\n",
       "    </tr>\n",
       "    <tr>\n",
       "      <th>2020-02-05</th>\n",
       "      <td>2071.020020</td>\n",
       "      <td>2032.000000</td>\n",
       "      <td>2071.020020</td>\n",
       "      <td>2039.869995</td>\n",
       "      <td>4376200</td>\n",
       "      <td>2039.869995</td>\n",
       "    </tr>\n",
       "    <tr>\n",
       "      <th>2020-02-06</th>\n",
       "      <td>2056.300049</td>\n",
       "      <td>2024.800049</td>\n",
       "      <td>2041.020020</td>\n",
       "      <td>2050.229980</td>\n",
       "      <td>3183000</td>\n",
       "      <td>2050.229980</td>\n",
       "    </tr>\n",
       "  </tbody>\n",
       "</table>\n",
       "</div>"
      ],
      "text/plain": [
       "                   High          Low         Open        Close    Volume  \\\n",
       "Date                                                                       \n",
       "2020-01-31  2055.719971  2002.270020  2051.469971  2008.719971  15567300   \n",
       "2020-02-03  2048.500000  2000.250000  2010.599976  2004.199951   5899100   \n",
       "2020-02-04  2059.800049  2015.369995  2029.880005  2049.669922   5289300   \n",
       "2020-02-05  2071.020020  2032.000000  2071.020020  2039.869995   4376200   \n",
       "2020-02-06  2056.300049  2024.800049  2041.020020  2050.229980   3183000   \n",
       "\n",
       "              Adj Close  \n",
       "Date                     \n",
       "2020-01-31  2008.719971  \n",
       "2020-02-03  2004.199951  \n",
       "2020-02-04  2049.669922  \n",
       "2020-02-05  2039.869995  \n",
       "2020-02-06  2050.229980  "
      ]
     },
     "execution_count": 81,
>>>>>>> master
     "metadata": {},
     "output_type": "execute_result"
    }
   ],
   "source": [
<<<<<<< HEAD
    "# TradersDataClean.nunique()\n",
    "TradersDataClean.select_dtypes(include=\"O\").columns"
   ]
  },
  {
   "cell_type": "markdown",
   "metadata": {},
   "source": [
    "## Task\n",
    "We want to find traders which made suspicious orders. To be a suspicious orders we consider the \n",
    "following rules:\n",
    "- The trader has submitted an order above the high price/below the low price for a given day of a stock\n",
    "- The trader has submitted an order in a date when the stock was not traded\n",
    "\n",
    "If any suspicious orders are found, we want to do the following analysis:\n",
    "\n",
    "- If more than one trader is found, rank by number of suspicious orders per trader.\n",
    "- Try to find if there is a correlation between the nationality of the trader and the \n",
    "tendency to make suspicious orders "
=======
    "stock_data.head()"
   ]
  },
  {
   "cell_type": "code",
   "execution_count": 82,
   "metadata": {},
   "outputs": [
    {
     "data": {
      "text/plain": [
       "Index(['High', 'Low', 'Open', 'Close', 'Volume', 'Adj Close'], dtype='object')"
      ]
     },
     "execution_count": 82,
     "metadata": {},
     "output_type": "execute_result"
    }
   ],
   "source": [
    "stock_data.columns"
>>>>>>> master
   ]
  },
  {
   "cell_type": "code",
<<<<<<< HEAD
   "execution_count": 28,
   "metadata": {},
   "outputs": [],
   "source": [
    "def find_fraud_trader(df):\n",
    "    df['suspicious'] = True\n",
    "    df['suspicious'] = df.apply(lambda row:True if(pd.isnull(row['High']) | (row['price'] > row['High']) | (row['price'] < row['Low'])) else False, axis=1)\n",
    "    \n",
    "    return df"
=======
   "execution_count": 83,
   "metadata": {},
   "outputs": [],
   "source": [
    "stock_data.reset_index(inplace=True)"
   ]
  },
  {
   "cell_type": "markdown",
   "metadata": {},
   "source": [
    "## Exploratory Data Analysis"
>>>>>>> master
   ]
  },
  {
   "cell_type": "code",
<<<<<<< HEAD
   "execution_count": 29,
=======
   "execution_count": 84,
>>>>>>> master
   "metadata": {},
   "outputs": [
    {
     "name": "stdout",
     "output_type": "stream",
     "text": [
<<<<<<< HEAD
      "Number of trading :  1000\n"
     ]
    },
    {
     "ename": "KeyError",
     "evalue": "'suspicious'",
     "output_type": "error",
     "traceback": [
      "\u001b[0;31m---------------------------------------------------------------------------\u001b[0m",
      "\u001b[0;31mKeyError\u001b[0m                                  Traceback (most recent call last)",
      "\u001b[0;32m~/.local/lib/python3.8/site-packages/pandas/core/indexes/base.py\u001b[0m in \u001b[0;36mget_loc\u001b[0;34m(self, key, method, tolerance)\u001b[0m\n\u001b[1;32m   2645\u001b[0m             \u001b[0;32mtry\u001b[0m\u001b[0;34m:\u001b[0m\u001b[0;34m\u001b[0m\u001b[0;34m\u001b[0m\u001b[0m\n\u001b[0;32m-> 2646\u001b[0;31m                 \u001b[0;32mreturn\u001b[0m \u001b[0mself\u001b[0m\u001b[0;34m.\u001b[0m\u001b[0m_engine\u001b[0m\u001b[0;34m.\u001b[0m\u001b[0mget_loc\u001b[0m\u001b[0;34m(\u001b[0m\u001b[0mkey\u001b[0m\u001b[0;34m)\u001b[0m\u001b[0;34m\u001b[0m\u001b[0;34m\u001b[0m\u001b[0m\n\u001b[0m\u001b[1;32m   2647\u001b[0m             \u001b[0;32mexcept\u001b[0m \u001b[0mKeyError\u001b[0m\u001b[0;34m:\u001b[0m\u001b[0;34m\u001b[0m\u001b[0;34m\u001b[0m\u001b[0m\n",
      "\u001b[0;32mpandas/_libs/index.pyx\u001b[0m in \u001b[0;36mpandas._libs.index.IndexEngine.get_loc\u001b[0;34m()\u001b[0m\n",
      "\u001b[0;32mpandas/_libs/index.pyx\u001b[0m in \u001b[0;36mpandas._libs.index.IndexEngine.get_loc\u001b[0;34m()\u001b[0m\n",
      "\u001b[0;32mpandas/_libs/hashtable_class_helper.pxi\u001b[0m in \u001b[0;36mpandas._libs.hashtable.PyObjectHashTable.get_item\u001b[0;34m()\u001b[0m\n",
      "\u001b[0;32mpandas/_libs/hashtable_class_helper.pxi\u001b[0m in \u001b[0;36mpandas._libs.hashtable.PyObjectHashTable.get_item\u001b[0;34m()\u001b[0m\n",
      "\u001b[0;31mKeyError\u001b[0m: 'suspicious'",
      "\nDuring handling of the above exception, another exception occurred:\n",
      "\u001b[0;31mKeyError\u001b[0m                                  Traceback (most recent call last)",
      "\u001b[0;32m<ipython-input-29-71ab381dd387>\u001b[0m in \u001b[0;36m<module>\u001b[0;34m\u001b[0m\n\u001b[1;32m      1\u001b[0m \u001b[0mprint\u001b[0m\u001b[0;34m(\u001b[0m\u001b[0;34m\"Number of trading : \"\u001b[0m\u001b[0;34m,\u001b[0m\u001b[0mdf\u001b[0m\u001b[0;34m.\u001b[0m\u001b[0mshape\u001b[0m\u001b[0;34m[\u001b[0m\u001b[0;36m0\u001b[0m\u001b[0;34m]\u001b[0m\u001b[0;34m)\u001b[0m\u001b[0;34m\u001b[0m\u001b[0;34m\u001b[0m\u001b[0m\n\u001b[0;32m----> 2\u001b[0;31m \u001b[0mprint\u001b[0m\u001b[0;34m(\u001b[0m\u001b[0;34m\"Number of suspicious trading : \"\u001b[0m\u001b[0;34m,\u001b[0m\u001b[0mdf\u001b[0m\u001b[0;34m[\u001b[0m\u001b[0mdf\u001b[0m\u001b[0;34m[\u001b[0m\u001b[0;34m'suspicious'\u001b[0m\u001b[0;34m]\u001b[0m\u001b[0;34m==\u001b[0m\u001b[0;32mTrue\u001b[0m\u001b[0;34m]\u001b[0m\u001b[0;34m.\u001b[0m\u001b[0mshape\u001b[0m\u001b[0;34m[\u001b[0m\u001b[0;36m0\u001b[0m\u001b[0;34m]\u001b[0m\u001b[0;34m)\u001b[0m\u001b[0;34m\u001b[0m\u001b[0;34m\u001b[0m\u001b[0m\n\u001b[0m\u001b[1;32m      3\u001b[0m \u001b[0mprint\u001b[0m\u001b[0;34m(\u001b[0m\u001b[0;34m\"Number of genuine trading : \"\u001b[0m\u001b[0;34m,\u001b[0m\u001b[0mdf\u001b[0m\u001b[0;34m[\u001b[0m\u001b[0mdf\u001b[0m\u001b[0;34m[\u001b[0m\u001b[0;34m'suspicious'\u001b[0m\u001b[0;34m]\u001b[0m\u001b[0;34m==\u001b[0m\u001b[0;32mFalse\u001b[0m\u001b[0;34m]\u001b[0m\u001b[0;34m.\u001b[0m\u001b[0mshape\u001b[0m\u001b[0;34m[\u001b[0m\u001b[0;36m0\u001b[0m\u001b[0;34m]\u001b[0m\u001b[0;34m)\u001b[0m\u001b[0;34m\u001b[0m\u001b[0;34m\u001b[0m\u001b[0m\n",
      "\u001b[0;32m~/.local/lib/python3.8/site-packages/pandas/core/frame.py\u001b[0m in \u001b[0;36m__getitem__\u001b[0;34m(self, key)\u001b[0m\n\u001b[1;32m   2798\u001b[0m             \u001b[0;32mif\u001b[0m \u001b[0mself\u001b[0m\u001b[0;34m.\u001b[0m\u001b[0mcolumns\u001b[0m\u001b[0;34m.\u001b[0m\u001b[0mnlevels\u001b[0m \u001b[0;34m>\u001b[0m \u001b[0;36m1\u001b[0m\u001b[0;34m:\u001b[0m\u001b[0;34m\u001b[0m\u001b[0;34m\u001b[0m\u001b[0m\n\u001b[1;32m   2799\u001b[0m                 \u001b[0;32mreturn\u001b[0m \u001b[0mself\u001b[0m\u001b[0;34m.\u001b[0m\u001b[0m_getitem_multilevel\u001b[0m\u001b[0;34m(\u001b[0m\u001b[0mkey\u001b[0m\u001b[0;34m)\u001b[0m\u001b[0;34m\u001b[0m\u001b[0;34m\u001b[0m\u001b[0m\n\u001b[0;32m-> 2800\u001b[0;31m             \u001b[0mindexer\u001b[0m \u001b[0;34m=\u001b[0m \u001b[0mself\u001b[0m\u001b[0;34m.\u001b[0m\u001b[0mcolumns\u001b[0m\u001b[0;34m.\u001b[0m\u001b[0mget_loc\u001b[0m\u001b[0;34m(\u001b[0m\u001b[0mkey\u001b[0m\u001b[0;34m)\u001b[0m\u001b[0;34m\u001b[0m\u001b[0;34m\u001b[0m\u001b[0m\n\u001b[0m\u001b[1;32m   2801\u001b[0m             \u001b[0;32mif\u001b[0m \u001b[0mis_integer\u001b[0m\u001b[0;34m(\u001b[0m\u001b[0mindexer\u001b[0m\u001b[0;34m)\u001b[0m\u001b[0;34m:\u001b[0m\u001b[0;34m\u001b[0m\u001b[0;34m\u001b[0m\u001b[0m\n\u001b[1;32m   2802\u001b[0m                 \u001b[0mindexer\u001b[0m \u001b[0;34m=\u001b[0m \u001b[0;34m[\u001b[0m\u001b[0mindexer\u001b[0m\u001b[0;34m]\u001b[0m\u001b[0;34m\u001b[0m\u001b[0;34m\u001b[0m\u001b[0m\n",
      "\u001b[0;32m~/.local/lib/python3.8/site-packages/pandas/core/indexes/base.py\u001b[0m in \u001b[0;36mget_loc\u001b[0;34m(self, key, method, tolerance)\u001b[0m\n\u001b[1;32m   2646\u001b[0m                 \u001b[0;32mreturn\u001b[0m \u001b[0mself\u001b[0m\u001b[0;34m.\u001b[0m\u001b[0m_engine\u001b[0m\u001b[0;34m.\u001b[0m\u001b[0mget_loc\u001b[0m\u001b[0;34m(\u001b[0m\u001b[0mkey\u001b[0m\u001b[0;34m)\u001b[0m\u001b[0;34m\u001b[0m\u001b[0;34m\u001b[0m\u001b[0m\n\u001b[1;32m   2647\u001b[0m             \u001b[0;32mexcept\u001b[0m \u001b[0mKeyError\u001b[0m\u001b[0;34m:\u001b[0m\u001b[0;34m\u001b[0m\u001b[0;34m\u001b[0m\u001b[0m\n\u001b[0;32m-> 2648\u001b[0;31m                 \u001b[0;32mreturn\u001b[0m \u001b[0mself\u001b[0m\u001b[0;34m.\u001b[0m\u001b[0m_engine\u001b[0m\u001b[0;34m.\u001b[0m\u001b[0mget_loc\u001b[0m\u001b[0;34m(\u001b[0m\u001b[0mself\u001b[0m\u001b[0;34m.\u001b[0m\u001b[0m_maybe_cast_indexer\u001b[0m\u001b[0;34m(\u001b[0m\u001b[0mkey\u001b[0m\u001b[0;34m)\u001b[0m\u001b[0;34m)\u001b[0m\u001b[0;34m\u001b[0m\u001b[0;34m\u001b[0m\u001b[0m\n\u001b[0m\u001b[1;32m   2649\u001b[0m         \u001b[0mindexer\u001b[0m \u001b[0;34m=\u001b[0m \u001b[0mself\u001b[0m\u001b[0;34m.\u001b[0m\u001b[0mget_indexer\u001b[0m\u001b[0;34m(\u001b[0m\u001b[0;34m[\u001b[0m\u001b[0mkey\u001b[0m\u001b[0;34m]\u001b[0m\u001b[0;34m,\u001b[0m \u001b[0mmethod\u001b[0m\u001b[0;34m=\u001b[0m\u001b[0mmethod\u001b[0m\u001b[0;34m,\u001b[0m \u001b[0mtolerance\u001b[0m\u001b[0;34m=\u001b[0m\u001b[0mtolerance\u001b[0m\u001b[0;34m)\u001b[0m\u001b[0;34m\u001b[0m\u001b[0;34m\u001b[0m\u001b[0m\n\u001b[1;32m   2650\u001b[0m         \u001b[0;32mif\u001b[0m \u001b[0mindexer\u001b[0m\u001b[0;34m.\u001b[0m\u001b[0mndim\u001b[0m \u001b[0;34m>\u001b[0m \u001b[0;36m1\u001b[0m \u001b[0;32mor\u001b[0m \u001b[0mindexer\u001b[0m\u001b[0;34m.\u001b[0m\u001b[0msize\u001b[0m \u001b[0;34m>\u001b[0m \u001b[0;36m1\u001b[0m\u001b[0;34m:\u001b[0m\u001b[0;34m\u001b[0m\u001b[0;34m\u001b[0m\u001b[0m\n",
      "\u001b[0;32mpandas/_libs/index.pyx\u001b[0m in \u001b[0;36mpandas._libs.index.IndexEngine.get_loc\u001b[0;34m()\u001b[0m\n",
      "\u001b[0;32mpandas/_libs/index.pyx\u001b[0m in \u001b[0;36mpandas._libs.index.IndexEngine.get_loc\u001b[0;34m()\u001b[0m\n",
      "\u001b[0;32mpandas/_libs/hashtable_class_helper.pxi\u001b[0m in \u001b[0;36mpandas._libs.hashtable.PyObjectHashTable.get_item\u001b[0;34m()\u001b[0m\n",
      "\u001b[0;32mpandas/_libs/hashtable_class_helper.pxi\u001b[0m in \u001b[0;36mpandas._libs.hashtable.PyObjectHashTable.get_item\u001b[0;34m()\u001b[0m\n",
      "\u001b[0;31mKeyError\u001b[0m: 'suspicious'"
=======
      "<class 'pandas.core.frame.DataFrame'>\n",
      "RangeIndex: 42 entries, 0 to 41\n",
      "Data columns (total 7 columns):\n",
      " #   Column     Non-Null Count  Dtype         \n",
      "---  ------     --------------  -----         \n",
      " 0   Date       42 non-null     datetime64[ns]\n",
      " 1   High       42 non-null     float64       \n",
      " 2   Low        42 non-null     float64       \n",
      " 3   Open       42 non-null     float64       \n",
      " 4   Close      42 non-null     float64       \n",
      " 5   Volume     42 non-null     int64         \n",
      " 6   Adj Close  42 non-null     float64       \n",
      "dtypes: datetime64[ns](1), float64(5), int64(1)\n",
      "memory usage: 2.4 KB\n"
     ]
    }
   ],
   "source": [
    "stock_data.info()"
   ]
  },
  {
   "cell_type": "code",
   "execution_count": 85,
   "metadata": {},
   "outputs": [
    {
     "name": "stdout",
     "output_type": "stream",
     "text": [
      "Shape before deleting duplicate values: (42, 7)\n",
      "Shape After deleting duplicate values: (42, 7)\n"
     ]
    }
   ],
   "source": [
    "# Checking duplicate data\n",
    "print('Shape before deleting duplicate values:', stock_data.shape)\n",
    "\n",
    "# Removing duplicate rows if any\n",
    "stock_data = stock_data.drop_duplicates()\n",
    "print('Shape After deleting duplicate values:', stock_data.shape)"
   ]
  },
  {
   "cell_type": "code",
   "execution_count": 86,
   "metadata": {},
   "outputs": [
    {
     "data": {
      "text/html": [
       "<div>\n",
       "<style scoped>\n",
       "    .dataframe tbody tr th:only-of-type {\n",
       "        vertical-align: middle;\n",
       "    }\n",
       "\n",
       "    .dataframe tbody tr th {\n",
       "        vertical-align: top;\n",
       "    }\n",
       "\n",
       "    .dataframe thead th {\n",
       "        text-align: right;\n",
       "    }\n",
       "</style>\n",
       "<table border=\"1\" class=\"dataframe\">\n",
       "  <thead>\n",
       "    <tr style=\"text-align: right;\">\n",
       "      <th></th>\n",
       "      <th>High</th>\n",
       "      <th>Low</th>\n",
       "      <th>Open</th>\n",
       "      <th>Close</th>\n",
       "      <th>Volume</th>\n",
       "      <th>Adj Close</th>\n",
       "    </tr>\n",
       "  </thead>\n",
       "  <tbody>\n",
       "    <tr>\n",
       "      <th>count</th>\n",
       "      <td>42.000000</td>\n",
       "      <td>42.000000</td>\n",
       "      <td>42.000000</td>\n",
       "      <td>42.000000</td>\n",
       "      <td>4.200000e+01</td>\n",
       "      <td>42.000000</td>\n",
       "    </tr>\n",
       "    <tr>\n",
       "      <th>mean</th>\n",
       "      <td>1997.033587</td>\n",
       "      <td>1928.853338</td>\n",
       "      <td>1959.332374</td>\n",
       "      <td>1963.259039</td>\n",
       "      <td>6.473969e+06</td>\n",
       "      <td>1963.259039</td>\n",
       "    </tr>\n",
       "    <tr>\n",
       "      <th>std</th>\n",
       "      <td>119.026586</td>\n",
       "      <td>143.603719</td>\n",
       "      <td>136.401280</td>\n",
       "      <td>128.808825</td>\n",
       "      <td>2.727553e+06</td>\n",
       "      <td>128.808825</td>\n",
       "    </tr>\n",
       "    <tr>\n",
       "      <th>min</th>\n",
       "      <td>1759.449951</td>\n",
       "      <td>1626.030029</td>\n",
       "      <td>1641.510010</td>\n",
       "      <td>1676.609985</td>\n",
       "      <td>2.561200e+06</td>\n",
       "      <td>1676.609985</td>\n",
       "    </tr>\n",
       "    <tr>\n",
       "      <th>25%</th>\n",
       "      <td>1924.497528</td>\n",
       "      <td>1823.709991</td>\n",
       "      <td>1871.910004</td>\n",
       "      <td>1884.685028</td>\n",
       "      <td>4.843725e+06</td>\n",
       "      <td>1884.685028</td>\n",
       "    </tr>\n",
       "    <tr>\n",
       "      <th>50%</th>\n",
       "      <td>1976.500000</td>\n",
       "      <td>1911.169983</td>\n",
       "      <td>1949.034973</td>\n",
       "      <td>1954.719971</td>\n",
       "      <td>6.012600e+06</td>\n",
       "      <td>1954.719971</td>\n",
       "    </tr>\n",
       "    <tr>\n",
       "      <th>75%</th>\n",
       "      <td>2068.215027</td>\n",
       "      <td>2030.200012</td>\n",
       "      <td>2049.099976</td>\n",
       "      <td>2050.089966</td>\n",
       "      <td>7.812025e+06</td>\n",
       "      <td>2050.089966</td>\n",
       "    </tr>\n",
       "    <tr>\n",
       "      <th>max</th>\n",
       "      <td>2185.949951</td>\n",
       "      <td>2161.120117</td>\n",
       "      <td>2173.070068</td>\n",
       "      <td>2170.219971</td>\n",
       "      <td>1.556730e+07</td>\n",
       "      <td>2170.219971</td>\n",
       "    </tr>\n",
       "  </tbody>\n",
       "</table>\n",
       "</div>"
      ],
      "text/plain": [
       "              High          Low         Open        Close        Volume  \\\n",
       "count    42.000000    42.000000    42.000000    42.000000  4.200000e+01   \n",
       "mean   1997.033587  1928.853338  1959.332374  1963.259039  6.473969e+06   \n",
       "std     119.026586   143.603719   136.401280   128.808825  2.727553e+06   \n",
       "min    1759.449951  1626.030029  1641.510010  1676.609985  2.561200e+06   \n",
       "25%    1924.497528  1823.709991  1871.910004  1884.685028  4.843725e+06   \n",
       "50%    1976.500000  1911.169983  1949.034973  1954.719971  6.012600e+06   \n",
       "75%    2068.215027  2030.200012  2049.099976  2050.089966  7.812025e+06   \n",
       "max    2185.949951  2161.120117  2173.070068  2170.219971  1.556730e+07   \n",
       "\n",
       "         Adj Close  \n",
       "count    42.000000  \n",
       "mean   1963.259039  \n",
       "std     128.808825  \n",
       "min    1676.609985  \n",
       "25%    1884.685028  \n",
       "50%    1954.719971  \n",
       "75%    2050.089966  \n",
       "max    2170.219971  "
      ]
     },
     "execution_count": 86,
     "metadata": {},
     "output_type": "execute_result"
    }
   ],
   "source": [
    "stock_data.describe()"
   ]
  },
  {
   "cell_type": "code",
   "execution_count": 87,
   "metadata": {},
   "outputs": [
    {
     "data": {
      "text/plain": [
       "Date         42\n",
       "High         42\n",
       "Low          42\n",
       "Open         42\n",
       "Close        42\n",
       "Volume       42\n",
       "Adj Close    42\n",
       "dtype: int64"
      ]
     },
     "execution_count": 87,
     "metadata": {},
     "output_type": "execute_result"
    }
   ],
   "source": [
    "stock_data.nunique()"
   ]
  },
  {
   "cell_type": "code",
   "execution_count": 89,
   "metadata": {},
   "outputs": [
    {
     "name": "stdout",
     "output_type": "stream",
     "text": [
      "<class 'pandas.core.frame.DataFrame'>\n",
      "Int64Index: 42 entries, 0 to 41\n",
      "Data columns (total 7 columns):\n",
      " #   Column     Non-Null Count  Dtype         \n",
      "---  ------     --------------  -----         \n",
      " 0   Date       42 non-null     datetime64[ns]\n",
      " 1   High       42 non-null     float64       \n",
      " 2   Low        42 non-null     float64       \n",
      " 3   Open       42 non-null     float64       \n",
      " 4   Close      42 non-null     float64       \n",
      " 5   Volume     42 non-null     int64         \n",
      " 6   Adj Close  42 non-null     float64       \n",
      "dtypes: datetime64[ns](1), float64(5), int64(1)\n",
      "memory usage: 2.6 KB\n"
>>>>>>> master
     ]
    }
   ],
   "source": [
<<<<<<< HEAD
    "print(\"Number of trading : \",df.shape[0])\n",
    "print(\"Number of suspicious trading : \",df[df['suspicious']==True].shape[0])\n",
    "print(\"Number of genuine trading : \",df[df['suspicious']==False].shape[0])"
=======
    "# Reset the index of stock dataset\n",
    "stock_data.reset_index(drop=True)\n",
    "\n",
    "# Finally check the summary of stock dataset\n",
    "stock_data.info()"
   ]
  },
  {
   "cell_type": "code",
   "execution_count": 90,
   "metadata": {},
   "outputs": [
    {
     "data": {
      "text/html": [
       "<div>\n",
       "<style scoped>\n",
       "    .dataframe tbody tr th:only-of-type {\n",
       "        vertical-align: middle;\n",
       "    }\n",
       "\n",
       "    .dataframe tbody tr th {\n",
       "        vertical-align: top;\n",
       "    }\n",
       "\n",
       "    .dataframe thead th {\n",
       "        text-align: right;\n",
       "    }\n",
       "</style>\n",
       "<table border=\"1\" class=\"dataframe\">\n",
       "  <thead>\n",
       "    <tr style=\"text-align: right;\">\n",
       "      <th></th>\n",
       "      <th>Date</th>\n",
       "      <th>High</th>\n",
       "      <th>Low</th>\n",
       "      <th>Open</th>\n",
       "      <th>Close</th>\n",
       "      <th>Volume</th>\n",
       "      <th>Adj Close</th>\n",
       "    </tr>\n",
       "  </thead>\n",
       "  <tbody>\n",
       "    <tr>\n",
       "      <th>0</th>\n",
       "      <td>2020-01-31</td>\n",
       "      <td>2055.719971</td>\n",
       "      <td>2002.270020</td>\n",
       "      <td>2051.469971</td>\n",
       "      <td>2008.719971</td>\n",
       "      <td>15567300</td>\n",
       "      <td>2008.719971</td>\n",
       "    </tr>\n",
       "    <tr>\n",
       "      <th>1</th>\n",
       "      <td>2020-02-03</td>\n",
       "      <td>2048.500000</td>\n",
       "      <td>2000.250000</td>\n",
       "      <td>2010.599976</td>\n",
       "      <td>2004.199951</td>\n",
       "      <td>5899100</td>\n",
       "      <td>2004.199951</td>\n",
       "    </tr>\n",
       "    <tr>\n",
       "      <th>2</th>\n",
       "      <td>2020-02-04</td>\n",
       "      <td>2059.800049</td>\n",
       "      <td>2015.369995</td>\n",
       "      <td>2029.880005</td>\n",
       "      <td>2049.669922</td>\n",
       "      <td>5289300</td>\n",
       "      <td>2049.669922</td>\n",
       "    </tr>\n",
       "    <tr>\n",
       "      <th>3</th>\n",
       "      <td>2020-02-05</td>\n",
       "      <td>2071.020020</td>\n",
       "      <td>2032.000000</td>\n",
       "      <td>2071.020020</td>\n",
       "      <td>2039.869995</td>\n",
       "      <td>4376200</td>\n",
       "      <td>2039.869995</td>\n",
       "    </tr>\n",
       "    <tr>\n",
       "      <th>4</th>\n",
       "      <td>2020-02-06</td>\n",
       "      <td>2056.300049</td>\n",
       "      <td>2024.800049</td>\n",
       "      <td>2041.020020</td>\n",
       "      <td>2050.229980</td>\n",
       "      <td>3183000</td>\n",
       "      <td>2050.229980</td>\n",
       "    </tr>\n",
       "  </tbody>\n",
       "</table>\n",
       "</div>"
      ],
      "text/plain": [
       "        Date         High          Low         Open        Close    Volume  \\\n",
       "0 2020-01-31  2055.719971  2002.270020  2051.469971  2008.719971  15567300   \n",
       "1 2020-02-03  2048.500000  2000.250000  2010.599976  2004.199951   5899100   \n",
       "2 2020-02-04  2059.800049  2015.369995  2029.880005  2049.669922   5289300   \n",
       "3 2020-02-05  2071.020020  2032.000000  2071.020020  2039.869995   4376200   \n",
       "4 2020-02-06  2056.300049  2024.800049  2041.020020  2050.229980   3183000   \n",
       "\n",
       "     Adj Close  \n",
       "0  2008.719971  \n",
       "1  2004.199951  \n",
       "2  2049.669922  \n",
       "3  2039.869995  \n",
       "4  2050.229980  "
      ]
     },
     "execution_count": 90,
     "metadata": {},
     "output_type": "execute_result"
    }
   ],
   "source": [
    "Columns = ['Date','High', 'Low', 'Open', 'Close', 'Volume', 'Adj Close']\n",
    "\n",
    "# Selecting final columns\n",
    "StockDataClean=stock_data[Columns]\n",
    "StockDataClean.head()"
   ]
  },
  {
   "cell_type": "code",
   "execution_count": 100,
   "metadata": {},
   "outputs": [],
   "source": [
    "# Saving this final data for reference during deployment\n",
    "StockDataClean.to_pickle('StockDataClean.pkl')"
   ]
  },
  {
   "cell_type": "code",
   "execution_count": 91,
   "metadata": {},
   "outputs": [
    {
     "data": {
      "image/png": "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\n",
      "text/plain": [
       "<Figure size 720x432 with 1 Axes>"
      ]
     },
     "metadata": {
      "needs_background": "light"
     },
     "output_type": "display_data"
    }
   ],
   "source": [
    "plt.figure(figsize=(10,6))\n",
    "plt.plot(stock_data['Date'],stock_data['Adj Close'],color='b', linewidth=1.5,marker='^',markersize=8,\n",
    "         linestyle='-',markerfacecolor='red')\n",
    "plt.title(\"Daywise closing price trend\")\n",
    "plt.xticks(rotation=45)\n",
    "plt.ylabel('Adj Close')\n",
    "plt.xlabel(None)\n",
    "plt.show()"
   ]
  },
  {
   "cell_type": "code",
   "execution_count": 93,
   "metadata": {},
   "outputs": [
    {
     "data": {
      "image/png": "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\n",
      "text/plain": [
       "<Figure size 720x432 with 1 Axes>"
      ]
     },
     "metadata": {
      "needs_background": "light"
     },
     "output_type": "display_data"
    }
   ],
   "source": [
    "# Now let's plot the total volume of stock being traded each day\n",
    "\n",
    "plt.figure(figsize=(10,6))\n",
    "plt.plot(stock_data['Date'],stock_data['Volume'],color='b', linewidth=1.5,marker='^',markersize=8,\n",
    "         linestyle='-',markerfacecolor='red')\n",
    "plt.title(\"Daywise volume trend\")\n",
    "plt.xticks(rotation=45)\n",
    "plt.ylabel('Volume')\n",
    "plt.xlabel('Date')\n",
    "plt.show()"
   ]
  },
  {
   "cell_type": "markdown",
   "metadata": {},
   "source": [
    "\n",
    "## Merging  stock & traders datasets"
   ]
  },
  {
   "cell_type": "code",
   "execution_count": 94,
   "metadata": {},
   "outputs": [],
   "source": [
    "'''\n",
    "Merge the trader dataset and stock dataset based on the key, trading date and stock date. \n",
    "Use keys from the trader dataset only, as on same date many traders can trade. \n",
    "'''\n",
    "\n",
    "merge_data = pd.merge(traders_data, stock_data, how='left', left_on='tradeDate', right_on='Date', \n",
    "                      left_index=True, right_index=False)"
   ]
  },
  {
   "cell_type": "code",
   "execution_count": 95,
   "metadata": {},
   "outputs": [
    {
     "data": {
      "text/html": [
       "<div>\n",
       "<style scoped>\n",
       "    .dataframe tbody tr th:only-of-type {\n",
       "        vertical-align: middle;\n",
       "    }\n",
       "\n",
       "    .dataframe tbody tr th {\n",
       "        vertical-align: top;\n",
       "    }\n",
       "\n",
       "    .dataframe thead th {\n",
       "        text-align: right;\n",
       "    }\n",
       "</style>\n",
       "<table border=\"1\" class=\"dataframe\">\n",
       "  <thead>\n",
       "    <tr style=\"text-align: right;\">\n",
       "      <th></th>\n",
       "      <th>countryCode</th>\n",
       "      <th>firstName</th>\n",
       "      <th>lastName</th>\n",
       "      <th>traderId</th>\n",
       "      <th>stockSymbol</th>\n",
       "      <th>stockName</th>\n",
       "      <th>tradeId</th>\n",
       "      <th>price</th>\n",
       "      <th>volume</th>\n",
       "      <th>tradeDatetime</th>\n",
       "      <th>tradeDate</th>\n",
       "      <th>Date</th>\n",
       "      <th>High</th>\n",
       "      <th>Low</th>\n",
       "      <th>Open</th>\n",
       "      <th>Close</th>\n",
       "      <th>Volume</th>\n",
       "      <th>Adj Close</th>\n",
       "    </tr>\n",
       "  </thead>\n",
       "  <tbody>\n",
       "    <tr>\n",
       "      <th>6.0</th>\n",
       "      <td>NZ</td>\n",
       "      <td>Brittany</td>\n",
       "      <td>Herring</td>\n",
       "      <td>pjjFIyeNTWRUWCuKoQSU</td>\n",
       "      <td>AMZN</td>\n",
       "      <td>Amazon</td>\n",
       "      <td>U9-4261680I</td>\n",
       "      <td>2351.144500</td>\n",
       "      <td>154.0</td>\n",
       "      <td>2020-02-10 17:42:11</td>\n",
       "      <td>2020-02-10</td>\n",
       "      <td>2020-02-10</td>\n",
       "      <td>2135.600098</td>\n",
       "      <td>2084.959961</td>\n",
       "      <td>2085.01001</td>\n",
       "      <td>2133.909912</td>\n",
       "      <td>5056200.0</td>\n",
       "      <td>2133.909912</td>\n",
       "    </tr>\n",
       "    <tr>\n",
       "      <th>6.0</th>\n",
       "      <td>KP</td>\n",
       "      <td>Tonya</td>\n",
       "      <td>Hernandez</td>\n",
       "      <td>wsdSKUxJgukcXlhktChZ</td>\n",
       "      <td>AMZN</td>\n",
       "      <td>Amazon</td>\n",
       "      <td>t6-6375744g</td>\n",
       "      <td>2402.000000</td>\n",
       "      <td>249.0</td>\n",
       "      <td>2020-02-10 11:14:06</td>\n",
       "      <td>2020-02-10</td>\n",
       "      <td>2020-02-10</td>\n",
       "      <td>2135.600098</td>\n",
       "      <td>2084.959961</td>\n",
       "      <td>2085.01001</td>\n",
       "      <td>2133.909912</td>\n",
       "      <td>5056200.0</td>\n",
       "      <td>2133.909912</td>\n",
       "    </tr>\n",
       "    <tr>\n",
       "      <th>6.0</th>\n",
       "      <td>KM</td>\n",
       "      <td>John</td>\n",
       "      <td>Nguyen</td>\n",
       "      <td>JyfwFVYySnPCaLuQIazT</td>\n",
       "      <td>AMZN</td>\n",
       "      <td>Amazon</td>\n",
       "      <td>k9-63748e</td>\n",
       "      <td>1577.273484</td>\n",
       "      <td>117.0</td>\n",
       "      <td>2020-02-10 19:35:43</td>\n",
       "      <td>2020-02-10</td>\n",
       "      <td>2020-02-10</td>\n",
       "      <td>2135.600098</td>\n",
       "      <td>2084.959961</td>\n",
       "      <td>2085.01001</td>\n",
       "      <td>2133.909912</td>\n",
       "      <td>5056200.0</td>\n",
       "      <td>2133.909912</td>\n",
       "    </tr>\n",
       "  </tbody>\n",
       "</table>\n",
       "</div>"
      ],
      "text/plain": [
       "    countryCode firstName   lastName              traderId stockSymbol  \\\n",
       "6.0          NZ  Brittany    Herring  pjjFIyeNTWRUWCuKoQSU        AMZN   \n",
       "6.0          KP     Tonya  Hernandez  wsdSKUxJgukcXlhktChZ        AMZN   \n",
       "6.0          KM      John     Nguyen  JyfwFVYySnPCaLuQIazT        AMZN   \n",
       "\n",
       "    stockName      tradeId        price  volume       tradeDatetime  \\\n",
       "6.0    Amazon  U9-4261680I  2351.144500   154.0 2020-02-10 17:42:11   \n",
       "6.0    Amazon  t6-6375744g  2402.000000   249.0 2020-02-10 11:14:06   \n",
       "6.0    Amazon    k9-63748e  1577.273484   117.0 2020-02-10 19:35:43   \n",
       "\n",
       "     tradeDate       Date         High          Low        Open        Close  \\\n",
       "6.0 2020-02-10 2020-02-10  2135.600098  2084.959961  2085.01001  2133.909912   \n",
       "6.0 2020-02-10 2020-02-10  2135.600098  2084.959961  2085.01001  2133.909912   \n",
       "6.0 2020-02-10 2020-02-10  2135.600098  2084.959961  2085.01001  2133.909912   \n",
       "\n",
       "        Volume    Adj Close  \n",
       "6.0  5056200.0  2133.909912  \n",
       "6.0  5056200.0  2133.909912  \n",
       "6.0  5056200.0  2133.909912  "
      ]
     },
     "execution_count": 95,
     "metadata": {},
     "output_type": "execute_result"
    }
   ],
   "source": [
    "\n",
    "\n",
    "# Lets check quickly data after merging for any particular date\n",
    "merge_data[merge_data['tradeDate'] == '2020-02-10']\n",
    "\n"
   ]
  },
  {
   "cell_type": "code",
   "execution_count": 98,
   "metadata": {},
   "outputs": [
    {
     "name": "stdout",
     "output_type": "stream",
     "text": [
      "(55, 11)\n",
      "(42, 7)\n",
      "(55, 18)\n"
     ]
    }
   ],
   "source": [
    "# Checking datasets size\n",
    "print(traders_data.shape)\n",
    "print(stock_data.shape)\n",
    "print(merge_data.shape)"
   ]
  },
  {
   "cell_type": "code",
   "execution_count": 99,
   "metadata": {},
   "outputs": [
    {
     "data": {
      "text/html": [
       "<div>\n",
       "<style scoped>\n",
       "    .dataframe tbody tr th:only-of-type {\n",
       "        vertical-align: middle;\n",
       "    }\n",
       "\n",
       "    .dataframe tbody tr th {\n",
       "        vertical-align: top;\n",
       "    }\n",
       "\n",
       "    .dataframe thead th {\n",
       "        text-align: right;\n",
       "    }\n",
       "</style>\n",
       "<table border=\"1\" class=\"dataframe\">\n",
       "  <thead>\n",
       "    <tr style=\"text-align: right;\">\n",
       "      <th></th>\n",
       "      <th>countryCode</th>\n",
       "      <th>firstName</th>\n",
       "      <th>lastName</th>\n",
       "      <th>traderId</th>\n",
       "      <th>stockSymbol</th>\n",
       "      <th>stockName</th>\n",
       "      <th>tradeId</th>\n",
       "      <th>price</th>\n",
       "      <th>volume</th>\n",
       "      <th>tradeDatetime</th>\n",
       "      <th>tradeDate</th>\n",
       "      <th>Date</th>\n",
       "      <th>High</th>\n",
       "      <th>Low</th>\n",
       "      <th>Open</th>\n",
       "      <th>Close</th>\n",
       "      <th>Volume</th>\n",
       "      <th>Adj Close</th>\n",
       "    </tr>\n",
       "  </thead>\n",
       "  <tbody>\n",
       "    <tr>\n",
       "      <th>6.0</th>\n",
       "      <td>NZ</td>\n",
       "      <td>Brittany</td>\n",
       "      <td>Herring</td>\n",
       "      <td>pjjFIyeNTWRUWCuKoQSU</td>\n",
       "      <td>AMZN</td>\n",
       "      <td>Amazon</td>\n",
       "      <td>U9-4261680I</td>\n",
       "      <td>2351.144500</td>\n",
       "      <td>154.0</td>\n",
       "      <td>2020-02-10 17:42:11</td>\n",
       "      <td>2020-02-10</td>\n",
       "      <td>2020-02-10</td>\n",
       "      <td>2135.600098</td>\n",
       "      <td>2084.959961</td>\n",
       "      <td>2085.010010</td>\n",
       "      <td>2133.909912</td>\n",
       "      <td>5056200.0</td>\n",
       "      <td>2133.909912</td>\n",
       "    </tr>\n",
       "    <tr>\n",
       "      <th>33.0</th>\n",
       "      <td>KZ</td>\n",
       "      <td>Vicki</td>\n",
       "      <td>Burgess</td>\n",
       "      <td>deTclcaRrihIYAUADJPN</td>\n",
       "      <td>AMZN</td>\n",
       "      <td>Amazon</td>\n",
       "      <td>C7-0894722J</td>\n",
       "      <td>1809.000000</td>\n",
       "      <td>156.0</td>\n",
       "      <td>2020-03-19 05:12:18</td>\n",
       "      <td>2020-03-19</td>\n",
       "      <td>2020-03-19</td>\n",
       "      <td>1945.000000</td>\n",
       "      <td>1832.650024</td>\n",
       "      <td>1860.000000</td>\n",
       "      <td>1880.930054</td>\n",
       "      <td>10399900.0</td>\n",
       "      <td>1880.930054</td>\n",
       "    </tr>\n",
       "    <tr>\n",
       "      <th>14.0</th>\n",
       "      <td>TN</td>\n",
       "      <td>Tony</td>\n",
       "      <td>Hoffman</td>\n",
       "      <td>vHakrmHtTDvuKvIcxniB</td>\n",
       "      <td>AMZN</td>\n",
       "      <td>Amazon</td>\n",
       "      <td>Z0-494338r</td>\n",
       "      <td>1901.210337</td>\n",
       "      <td>77.0</td>\n",
       "      <td>2020-02-21 14:13:00</td>\n",
       "      <td>2020-02-21</td>\n",
       "      <td>2020-02-21</td>\n",
       "      <td>2144.550049</td>\n",
       "      <td>2088.000000</td>\n",
       "      <td>2142.149902</td>\n",
       "      <td>2095.969971</td>\n",
       "      <td>4646300.0</td>\n",
       "      <td>2095.969971</td>\n",
       "    </tr>\n",
       "    <tr>\n",
       "      <th>34.0</th>\n",
       "      <td>BT</td>\n",
       "      <td>Allison</td>\n",
       "      <td>Davis</td>\n",
       "      <td>TzqyQTQjZGeLZuJqlLaQ</td>\n",
       "      <td>AMZN</td>\n",
       "      <td>Amazon</td>\n",
       "      <td>g2-90716Y</td>\n",
       "      <td>1779.637800</td>\n",
       "      <td>148.0</td>\n",
       "      <td>2020-03-20 20:55:57</td>\n",
       "      <td>2020-03-20</td>\n",
       "      <td>2020-03-20</td>\n",
       "      <td>1957.000000</td>\n",
       "      <td>1820.729980</td>\n",
       "      <td>1926.310059</td>\n",
       "      <td>1846.089966</td>\n",
       "      <td>9817900.0</td>\n",
       "      <td>1846.089966</td>\n",
       "    </tr>\n",
       "    <tr>\n",
       "      <th>NaN</th>\n",
       "      <td>MK</td>\n",
       "      <td>Scott</td>\n",
       "      <td>Thompson</td>\n",
       "      <td>sjAcfZksMRViIYdJRrnF</td>\n",
       "      <td>AMZN</td>\n",
       "      <td>Amazon</td>\n",
       "      <td>F0-4606780P</td>\n",
       "      <td>2403.190000</td>\n",
       "      <td>175.0</td>\n",
       "      <td>2020-02-29 21:32:35</td>\n",
       "      <td>2020-02-29</td>\n",
       "      <td>NaT</td>\n",
       "      <td>NaN</td>\n",
       "      <td>NaN</td>\n",
       "      <td>NaN</td>\n",
       "      <td>NaN</td>\n",
       "      <td>NaN</td>\n",
       "      <td>NaN</td>\n",
       "    </tr>\n",
       "  </tbody>\n",
       "</table>\n",
       "</div>"
      ],
      "text/plain": [
       "     countryCode firstName  lastName              traderId stockSymbol  \\\n",
       "6.0           NZ  Brittany   Herring  pjjFIyeNTWRUWCuKoQSU        AMZN   \n",
       "33.0          KZ     Vicki   Burgess  deTclcaRrihIYAUADJPN        AMZN   \n",
       "14.0          TN      Tony   Hoffman  vHakrmHtTDvuKvIcxniB        AMZN   \n",
       "34.0          BT   Allison     Davis  TzqyQTQjZGeLZuJqlLaQ        AMZN   \n",
       "NaN           MK     Scott  Thompson  sjAcfZksMRViIYdJRrnF        AMZN   \n",
       "\n",
       "     stockName      tradeId        price  volume       tradeDatetime  \\\n",
       "6.0     Amazon  U9-4261680I  2351.144500   154.0 2020-02-10 17:42:11   \n",
       "33.0    Amazon  C7-0894722J  1809.000000   156.0 2020-03-19 05:12:18   \n",
       "14.0    Amazon   Z0-494338r  1901.210337    77.0 2020-02-21 14:13:00   \n",
       "34.0    Amazon    g2-90716Y  1779.637800   148.0 2020-03-20 20:55:57   \n",
       "NaN     Amazon  F0-4606780P  2403.190000   175.0 2020-02-29 21:32:35   \n",
       "\n",
       "      tradeDate       Date         High          Low         Open  \\\n",
       "6.0  2020-02-10 2020-02-10  2135.600098  2084.959961  2085.010010   \n",
       "33.0 2020-03-19 2020-03-19  1945.000000  1832.650024  1860.000000   \n",
       "14.0 2020-02-21 2020-02-21  2144.550049  2088.000000  2142.149902   \n",
       "34.0 2020-03-20 2020-03-20  1957.000000  1820.729980  1926.310059   \n",
       "NaN  2020-02-29        NaT          NaN          NaN          NaN   \n",
       "\n",
       "            Close      Volume    Adj Close  \n",
       "6.0   2133.909912   5056200.0  2133.909912  \n",
       "33.0  1880.930054  10399900.0  1880.930054  \n",
       "14.0  2095.969971   4646300.0  2095.969971  \n",
       "34.0  1846.089966   9817900.0  1846.089966  \n",
       "NaN           NaN         NaN          NaN  "
      ]
     },
     "execution_count": 99,
     "metadata": {},
     "output_type": "execute_result"
    }
   ],
   "source": [
    "merge_data.head()"
   ]
  },
  {
   "cell_type": "code",
   "execution_count": 127,
   "metadata": {},
   "outputs": [],
   "source": [
    "# Saving this final data for reference during deployment\n",
    "marketDataLabel.to_pickle('marketDataLabel.pkl')"
   ]
  },
  {
   "cell_type": "markdown",
   "metadata": {},
   "source": [
    "## Task\n",
    "We want to find traders which made suspicious orders. To be a suspicious orders we consider the \n",
    "following rules:\n",
    "- The trader has submitted an order above the high price/below the low price for a given day of a stock\n",
    "- The trader has submitted an order in a date when the stock was not traded\n",
    "\n",
    "If any suspicious orders are found, we want to do the following analysis:\n",
    "\n",
    "- If more than one trader is found, rank by number of suspicious orders per trader.\n",
    "- Try to find if there is a correlation between the nationality of the trader and the \n",
    "tendency to make suspicious orders "
   ]
  },
  {
   "cell_type": "code",
   "execution_count": 60,
   "metadata": {},
   "outputs": [],
   "source": [
    "def find_fraud_trader(df):\n",
    "    df['suspicious'] = True\n",
    "    df['suspicious'] = df.apply(lambda row:True if(pd.isnull(row['High']) | (row['price'] > row['High']) | (row['price'] < row['Low'])) else False, axis=1)\n",
    "    \n",
    "    return df"
   ]
  },
  {
   "cell_type": "code",
   "execution_count": 102,
   "metadata": {},
   "outputs": [],
   "source": [
    "merge_data = find_fraud_trader(merge_data)"
   ]
  },
  {
   "cell_type": "code",
   "execution_count": 103,
   "metadata": {},
   "outputs": [
    {
     "name": "stdout",
     "output_type": "stream",
     "text": [
      "Number of trading :  55\n",
      "Number of suspicious trading :  51\n",
      "Number of genuine trading :  4\n"
     ]
    }
   ],
   "source": [
    "print(\"Number of trading : \",merge_data.shape[0])\n",
    "print(\"Number of suspicious trading : \",merge_data[merge_data['suspicious']==True].shape[0])\n",
    "print(\"Number of genuine trading : \",merge_data[merge_data['suspicious']==False].shape[0])"
   ]
  },
  {
   "cell_type": "code",
   "execution_count": 104,
   "metadata": {},
   "outputs": [
    {
     "data": {
      "text/plain": [
       "Index(['countryCode', 'firstName', 'lastName', 'traderId', 'stockSymbol',\n",
       "       'stockName', 'tradeId', 'price', 'volume', 'tradeDatetime', 'tradeDate',\n",
       "       'Date', 'High', 'Low', 'Open', 'Close', 'Volume', 'Adj Close',\n",
       "       'suspicious'],\n",
       "      dtype='object')"
      ]
     },
     "execution_count": 104,
     "metadata": {},
     "output_type": "execute_result"
    }
   ],
   "source": [
    "merge_data.columns"
   ]
  },
  {
   "cell_type": "code",
   "execution_count": 105,
   "metadata": {},
   "outputs": [
    {
     "data": {
      "text/html": [
       "<div>\n",
       "<style scoped>\n",
       "    .dataframe tbody tr th:only-of-type {\n",
       "        vertical-align: middle;\n",
       "    }\n",
       "\n",
       "    .dataframe tbody tr th {\n",
       "        vertical-align: top;\n",
       "    }\n",
       "\n",
       "    .dataframe thead th {\n",
       "        text-align: right;\n",
       "    }\n",
       "</style>\n",
       "<table border=\"1\" class=\"dataframe\">\n",
       "  <thead>\n",
       "    <tr style=\"text-align: right;\">\n",
       "      <th></th>\n",
       "      <th>countryCode</th>\n",
       "      <th>firstName</th>\n",
       "      <th>lastName</th>\n",
       "      <th>traderId</th>\n",
       "      <th>stockSymbol</th>\n",
       "      <th>stockName</th>\n",
       "      <th>tradeId</th>\n",
       "      <th>price</th>\n",
       "      <th>volume</th>\n",
       "      <th>tradeDatetime</th>\n",
       "      <th>tradeDate</th>\n",
       "      <th>Date</th>\n",
       "      <th>High</th>\n",
       "      <th>Low</th>\n",
       "      <th>Open</th>\n",
       "      <th>Close</th>\n",
       "      <th>Volume</th>\n",
       "      <th>Adj Close</th>\n",
       "      <th>suspicious</th>\n",
       "    </tr>\n",
       "  </thead>\n",
       "  <tbody>\n",
       "    <tr>\n",
       "      <th>6.0</th>\n",
       "      <td>NZ</td>\n",
       "      <td>Brittany</td>\n",
       "      <td>Herring</td>\n",
       "      <td>pjjFIyeNTWRUWCuKoQSU</td>\n",
       "      <td>AMZN</td>\n",
       "      <td>Amazon</td>\n",
       "      <td>U9-4261680I</td>\n",
       "      <td>2351.1445</td>\n",
       "      <td>154.0</td>\n",
       "      <td>2020-02-10 17:42:11</td>\n",
       "      <td>2020-02-10</td>\n",
       "      <td>2020-02-10</td>\n",
       "      <td>2135.600098</td>\n",
       "      <td>2084.959961</td>\n",
       "      <td>2085.01001</td>\n",
       "      <td>2133.909912</td>\n",
       "      <td>5056200.0</td>\n",
       "      <td>2133.909912</td>\n",
       "      <td>True</td>\n",
       "    </tr>\n",
       "    <tr>\n",
       "      <th>32.0</th>\n",
       "      <td>NZ</td>\n",
       "      <td>Brittany</td>\n",
       "      <td>Herring</td>\n",
       "      <td>pjjFIyeNTWRUWCuKoQSU</td>\n",
       "      <td>AMZN</td>\n",
       "      <td>Amazon</td>\n",
       "      <td>Y5-6456126O</td>\n",
       "      <td>2182.7000</td>\n",
       "      <td>171.0</td>\n",
       "      <td>2020-03-18 21:07:36</td>\n",
       "      <td>2020-03-18</td>\n",
       "      <td>2020-03-18</td>\n",
       "      <td>1841.660034</td>\n",
       "      <td>1745.000000</td>\n",
       "      <td>1750.00000</td>\n",
       "      <td>1830.000000</td>\n",
       "      <td>9645200.0</td>\n",
       "      <td>1830.000000</td>\n",
       "      <td>True</td>\n",
       "    </tr>\n",
       "    <tr>\n",
       "      <th>NaN</th>\n",
       "      <td>NZ</td>\n",
       "      <td>Brittany</td>\n",
       "      <td>Herring</td>\n",
       "      <td>pjjFIyeNTWRUWCuKoQSU</td>\n",
       "      <td>AMZN</td>\n",
       "      <td>Amazon</td>\n",
       "      <td>n8-8758476W</td>\n",
       "      <td>2209.0000</td>\n",
       "      <td>17.0</td>\n",
       "      <td>2020-02-02 17:38:52</td>\n",
       "      <td>2020-02-02</td>\n",
       "      <td>NaT</td>\n",
       "      <td>NaN</td>\n",
       "      <td>NaN</td>\n",
       "      <td>NaN</td>\n",
       "      <td>NaN</td>\n",
       "      <td>NaN</td>\n",
       "      <td>NaN</td>\n",
       "      <td>True</td>\n",
       "    </tr>\n",
       "    <tr>\n",
       "      <th>30.0</th>\n",
       "      <td>NZ</td>\n",
       "      <td>Brittany</td>\n",
       "      <td>Herring</td>\n",
       "      <td>pjjFIyeNTWRUWCuKoQSU</td>\n",
       "      <td>AMZN</td>\n",
       "      <td>Amazon</td>\n",
       "      <td>b1-1434938N</td>\n",
       "      <td>1792.6610</td>\n",
       "      <td>65.0</td>\n",
       "      <td>2020-03-16 07:19:46</td>\n",
       "      <td>2020-03-16</td>\n",
       "      <td>2020-03-16</td>\n",
       "      <td>1759.449951</td>\n",
       "      <td>1626.030029</td>\n",
       "      <td>1641.51001</td>\n",
       "      <td>1689.150024</td>\n",
       "      <td>8917300.0</td>\n",
       "      <td>1689.150024</td>\n",
       "      <td>True</td>\n",
       "    </tr>\n",
       "  </tbody>\n",
       "</table>\n",
       "</div>"
      ],
      "text/plain": [
       "     countryCode firstName lastName              traderId stockSymbol  \\\n",
       "6.0           NZ  Brittany  Herring  pjjFIyeNTWRUWCuKoQSU        AMZN   \n",
       "32.0          NZ  Brittany  Herring  pjjFIyeNTWRUWCuKoQSU        AMZN   \n",
       "NaN           NZ  Brittany  Herring  pjjFIyeNTWRUWCuKoQSU        AMZN   \n",
       "30.0          NZ  Brittany  Herring  pjjFIyeNTWRUWCuKoQSU        AMZN   \n",
       "\n",
       "     stockName      tradeId      price  volume       tradeDatetime  tradeDate  \\\n",
       "6.0     Amazon  U9-4261680I  2351.1445   154.0 2020-02-10 17:42:11 2020-02-10   \n",
       "32.0    Amazon  Y5-6456126O  2182.7000   171.0 2020-03-18 21:07:36 2020-03-18   \n",
       "NaN     Amazon  n8-8758476W  2209.0000    17.0 2020-02-02 17:38:52 2020-02-02   \n",
       "30.0    Amazon  b1-1434938N  1792.6610    65.0 2020-03-16 07:19:46 2020-03-16   \n",
       "\n",
       "           Date         High          Low        Open        Close     Volume  \\\n",
       "6.0  2020-02-10  2135.600098  2084.959961  2085.01001  2133.909912  5056200.0   \n",
       "32.0 2020-03-18  1841.660034  1745.000000  1750.00000  1830.000000  9645200.0   \n",
       "NaN         NaT          NaN          NaN         NaN          NaN        NaN   \n",
       "30.0 2020-03-16  1759.449951  1626.030029  1641.51001  1689.150024  8917300.0   \n",
       "\n",
       "        Adj Close  suspicious  \n",
       "6.0   2133.909912        True  \n",
       "32.0  1830.000000        True  \n",
       "NaN           NaN        True  \n",
       "30.0  1689.150024        True  "
      ]
     },
     "execution_count": 105,
     "metadata": {},
     "output_type": "execute_result"
    }
   ],
   "source": [
    "\n",
    "\n",
    "merge_data[merge_data['traderId'] == 'pjjFIyeNTWRUWCuKoQSU']\n",
    "\n"
   ]
  },
  {
   "cell_type": "code",
   "execution_count": 106,
   "metadata": {},
   "outputs": [],
   "source": [
    "# Rearrange and select necessary columns\n",
    "data_label = merge_data[['tradeDate','countryCode', 'firstName', 'lastName', 'traderId', 'stockSymbol',\n",
    "        'tradeId', 'price', 'volume', 'High', 'Low', 'Open', 'Close', 'Adj Close','suspicious']]"
   ]
  },
  {
   "cell_type": "code",
   "execution_count": 107,
   "metadata": {},
   "outputs": [
    {
     "name": "stderr",
     "output_type": "stream",
     "text": [
      "/home/amit/.local/lib/python3.8/site-packages/pandas/core/frame.py:4125: SettingWithCopyWarning: \n",
      "A value is trying to be set on a copy of a slice from a DataFrame\n",
      "\n",
      "See the caveats in the documentation: https://pandas.pydata.org/pandas-docs/stable/user_guide/indexing.html#returning-a-view-versus-a-copy\n",
      "  return super().rename(\n"
     ]
    },
    {
     "data": {
      "text/plain": [
       "(55, 15)"
      ]
     },
     "execution_count": 107,
     "metadata": {},
     "output_type": "execute_result"
    }
   ],
   "source": [
    "# Rename columns to more appropriate\n",
    "data_label.rename(columns={'price': 'tradePrice','volume': 'tradeVolume',\n",
    "                           'high': 'stockHighPrice','low': 'stockLowPrice',\n",
    "                           'open': 'stockOpenPrice','close': 'stockClosePrice',\n",
    "                           'adj close': 'stockAdjClosePrice'}, inplace=True)\n",
    "data_label.shape"
   ]
  },
  {
   "cell_type": "code",
   "execution_count": 108,
   "metadata": {},
   "outputs": [
    {
     "data": {
      "text/plain": [
       "Index(['tradeDate', 'countryCode', 'firstName', 'lastName', 'traderId',\n",
       "       'stockSymbol', 'tradeId', 'tradePrice', 'tradeVolume', 'High', 'Low',\n",
       "       'Open', 'Close', 'Adj Close', 'suspicious'],\n",
       "      dtype='object')"
      ]
     },
     "execution_count": 108,
     "metadata": {},
     "output_type": "execute_result"
    }
   ],
   "source": [
    "data_label.columns"
   ]
  },
  {
   "cell_type": "code",
   "execution_count": 109,
   "metadata": {},
   "outputs": [
    {
     "data": {
      "text/html": [
       "<div>\n",
       "<style scoped>\n",
       "    .dataframe tbody tr th:only-of-type {\n",
       "        vertical-align: middle;\n",
       "    }\n",
       "\n",
       "    .dataframe tbody tr th {\n",
       "        vertical-align: top;\n",
       "    }\n",
       "\n",
       "    .dataframe thead th {\n",
       "        text-align: right;\n",
       "    }\n",
       "</style>\n",
       "<table border=\"1\" class=\"dataframe\">\n",
       "  <thead>\n",
       "    <tr style=\"text-align: right;\">\n",
       "      <th></th>\n",
       "      <th>tradeDate</th>\n",
       "      <th>countryCode</th>\n",
       "      <th>firstName</th>\n",
       "      <th>lastName</th>\n",
       "      <th>traderId</th>\n",
       "      <th>stockSymbol</th>\n",
       "      <th>tradeId</th>\n",
       "      <th>tradePrice</th>\n",
       "      <th>tradeVolume</th>\n",
       "      <th>High</th>\n",
       "      <th>Low</th>\n",
       "      <th>Open</th>\n",
       "      <th>Close</th>\n",
       "      <th>Adj Close</th>\n",
       "      <th>suspicious</th>\n",
       "    </tr>\n",
       "  </thead>\n",
       "  <tbody>\n",
       "    <tr>\n",
       "      <th>6.0</th>\n",
       "      <td>2020-02-10</td>\n",
       "      <td>NZ</td>\n",
       "      <td>Brittany</td>\n",
       "      <td>Herring</td>\n",
       "      <td>pjjFIyeNTWRUWCuKoQSU</td>\n",
       "      <td>AMZN</td>\n",
       "      <td>U9-4261680I</td>\n",
       "      <td>2351.144500</td>\n",
       "      <td>154.0</td>\n",
       "      <td>2135.600098</td>\n",
       "      <td>2084.959961</td>\n",
       "      <td>2085.010010</td>\n",
       "      <td>2133.909912</td>\n",
       "      <td>2133.909912</td>\n",
       "      <td>True</td>\n",
       "    </tr>\n",
       "    <tr>\n",
       "      <th>33.0</th>\n",
       "      <td>2020-03-19</td>\n",
       "      <td>KZ</td>\n",
       "      <td>Vicki</td>\n",
       "      <td>Burgess</td>\n",
       "      <td>deTclcaRrihIYAUADJPN</td>\n",
       "      <td>AMZN</td>\n",
       "      <td>C7-0894722J</td>\n",
       "      <td>1809.000000</td>\n",
       "      <td>156.0</td>\n",
       "      <td>1945.000000</td>\n",
       "      <td>1832.650024</td>\n",
       "      <td>1860.000000</td>\n",
       "      <td>1880.930054</td>\n",
       "      <td>1880.930054</td>\n",
       "      <td>True</td>\n",
       "    </tr>\n",
       "    <tr>\n",
       "      <th>14.0</th>\n",
       "      <td>2020-02-21</td>\n",
       "      <td>TN</td>\n",
       "      <td>Tony</td>\n",
       "      <td>Hoffman</td>\n",
       "      <td>vHakrmHtTDvuKvIcxniB</td>\n",
       "      <td>AMZN</td>\n",
       "      <td>Z0-494338r</td>\n",
       "      <td>1901.210337</td>\n",
       "      <td>77.0</td>\n",
       "      <td>2144.550049</td>\n",
       "      <td>2088.000000</td>\n",
       "      <td>2142.149902</td>\n",
       "      <td>2095.969971</td>\n",
       "      <td>2095.969971</td>\n",
       "      <td>True</td>\n",
       "    </tr>\n",
       "  </tbody>\n",
       "</table>\n",
       "</div>"
      ],
      "text/plain": [
       "      tradeDate countryCode firstName lastName              traderId  \\\n",
       "6.0  2020-02-10          NZ  Brittany  Herring  pjjFIyeNTWRUWCuKoQSU   \n",
       "33.0 2020-03-19          KZ     Vicki  Burgess  deTclcaRrihIYAUADJPN   \n",
       "14.0 2020-02-21          TN      Tony  Hoffman  vHakrmHtTDvuKvIcxniB   \n",
       "\n",
       "     stockSymbol      tradeId   tradePrice  tradeVolume         High  \\\n",
       "6.0         AMZN  U9-4261680I  2351.144500        154.0  2135.600098   \n",
       "33.0        AMZN  C7-0894722J  1809.000000        156.0  1945.000000   \n",
       "14.0        AMZN   Z0-494338r  1901.210337         77.0  2144.550049   \n",
       "\n",
       "              Low         Open        Close    Adj Close  suspicious  \n",
       "6.0   2084.959961  2085.010010  2133.909912  2133.909912        True  \n",
       "33.0  1832.650024  1860.000000  1880.930054  1880.930054        True  \n",
       "14.0  2088.000000  2142.149902  2095.969971  2095.969971        True  "
      ]
     },
     "execution_count": 109,
     "metadata": {},
     "output_type": "execute_result"
    }
   ],
   "source": [
    "# Saving final preprocessed data\n",
    "SelectedColumns = ['tradeDate', 'countryCode', 'firstName', 'lastName', 'traderId',\n",
    "       'stockSymbol', 'tradeId', 'tradePrice', 'tradeVolume', 'High', 'Low',\n",
    "       'Open', 'Close', 'Adj Close', 'suspicious']\n",
    "\n",
    "# Selecting final columns\n",
    "marketDataLabel=data_label[SelectedColumns]\n",
    "marketDataLabel.head(3)"
   ]
  },
  {
   "cell_type": "code",
   "execution_count": 110,
   "metadata": {},
   "outputs": [
    {
     "name": "stdout",
     "output_type": "stream",
     "text": [
      "True     51\n",
      "False     4\n",
      "Name: suspicious, dtype: int64\n",
      "\n",
      "\n",
      "True     0.927273\n",
      "False    0.072727\n",
      "Name: suspicious, dtype: float64\n"
     ]
    }
   ],
   "source": [
    "print(data_label['suspicious'].value_counts())\n",
    "print('\\n')\n",
    "print(data_label['suspicious'].value_counts(normalize=True))"
   ]
  },
  {
   "cell_type": "code",
   "execution_count": 111,
   "metadata": {},
   "outputs": [
    {
     "data": {
      "image/png": "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\n",
      "text/plain": [
       "<Figure size 432x432 with 1 Axes>"
      ]
     },
     "metadata": {},
     "output_type": "display_data"
    }
   ],
   "source": [
    "\n",
    "\n",
    "# Plot Pie chart for suspicious vs genue trading distribution\n",
    "data_label[\"suspicious\"].value_counts().plot(kind = 'pie',explode=[0, 0.1],figsize=(6, 6),\n",
    "                                             autopct='%1.1f%%',shadow=True)\n",
    "plt.title(\"Suspicious and Non-suspicious Distribution\",fontsize=20)\n",
    "plt.legend([\"Suspicious\", \"Genuine\"])\n",
    "plt.show()\n",
    "\n"
   ]
  },
  {
   "cell_type": "markdown",
   "metadata": {},
   "source": [
    "## Traders Suspicious analysis"
   ]
  },
  {
   "cell_type": "code",
   "execution_count": 112,
   "metadata": {},
   "outputs": [
    {
     "data": {
      "image/png": "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\n",
      "text/plain": [
       "<Figure size 432x288 with 1 Axes>"
      ]
     },
     "metadata": {
      "needs_background": "light"
     },
     "output_type": "display_data"
    }
   ],
   "source": [
    "# Checking volume ratio of trading for suspicious and genuine\n",
    "sns.barplot(x='suspicious', y='tradeVolume', data=data_label)\n",
    "plt.show()"
   ]
  },
  {
   "cell_type": "code",
   "execution_count": 113,
   "metadata": {},
   "outputs": [
    {
     "data": {
      "text/plain": [
       "<AxesSubplot:xlabel='suspicious', ylabel='tradePrice'>"
      ]
     },
     "execution_count": 113,
     "metadata": {},
     "output_type": "execute_result"
    },
    {
     "data": {
      "image/png": "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\n",
      "text/plain": [
       "<Figure size 432x288 with 1 Axes>"
      ]
     },
     "metadata": {
      "needs_background": "light"
     },
     "output_type": "display_data"
    }
   ],
   "source": [
    "# Checking price ratio of trading for suspicious and genuine\n",
    "sns.barplot(x='suspicious', y='tradePrice', data=data_label)"
   ]
  },
  {
   "cell_type": "code",
   "execution_count": 114,
   "metadata": {},
   "outputs": [
    {
     "data": {
      "text/plain": [
       "(51, 15)"
      ]
     },
     "execution_count": 114,
     "metadata": {},
     "output_type": "execute_result"
    }
   ],
   "source": [
    "# Filter to only fraud data\n",
    "fraud_data = data_label[data_label['suspicious']==True]\n",
    "fraud_data.shape"
   ]
  },
  {
   "cell_type": "code",
   "execution_count": 115,
   "metadata": {},
   "outputs": [
    {
     "data": {
      "text/plain": [
       "sjAcfZksMRViIYdJRrnF    5\n",
       "xIZVPeFzGRmMglPrQfhK    4\n",
       "wsdSKUxJgukcXlhktChZ    4\n",
       "BJbHFDutYbbXjgkPWbwf    4\n",
       "RNvnAvOpyEVAoNGnVZQU    4\n",
       "pjjFIyeNTWRUWCuKoQSU    4\n",
       "JyfwFVYySnPCaLuQIazT    4\n",
       "HToYfSueoxPSgBHsToac    3\n",
       "MUVGtYHdeMdauAxzEJvt    3\n",
       "vDAqsRnDaMrcomXsosXG    3\n",
       "goRcbvzSLJhZvFucyhbG    2\n",
       "deTclcaRrihIYAUADJPN    2\n",
       "puCpymcjBdurvfVyRYry    2\n",
       "TzqyQTQjZGeLZuJqlLaQ    2\n",
       "WVcMKILUHtBkEahrPLrG    2\n",
       "jDmYPxeqAWfCKCQCYFEx    2\n",
       "vHakrmHtTDvuKvIcxniB    1\n",
       "Name: traderId, dtype: int64"
      ]
     },
     "execution_count": 115,
     "metadata": {},
     "output_type": "execute_result"
    }
   ],
   "source": [
    "fraud_data['traderId'].value_counts()"
   ]
  },
  {
   "cell_type": "code",
   "execution_count": 116,
   "metadata": {},
   "outputs": [
    {
     "data": {
      "text/plain": [
       "Index(['tradeDate', 'countryCode', 'firstName', 'lastName', 'traderId',\n",
       "       'stockSymbol', 'tradeId', 'tradePrice', 'tradeVolume', 'High', 'Low',\n",
       "       'Open', 'Close', 'Adj Close', 'suspicious'],\n",
       "      dtype='object')"
      ]
     },
     "execution_count": 116,
     "metadata": {},
     "output_type": "execute_result"
    }
   ],
   "source": [
    "fraud_data.columns"
   ]
  },
  {
   "cell_type": "code",
   "execution_count": 117,
   "metadata": {},
   "outputs": [
    {
     "name": "stderr",
     "output_type": "stream",
     "text": [
      "<ipython-input-117-2263112094e9>:3: SettingWithCopyWarning: \n",
      "A value is trying to be set on a copy of a slice from a DataFrame\n",
      "\n",
      "See the caveats in the documentation: https://pandas.pydata.org/pandas-docs/stable/user_guide/indexing.html#returning-a-view-versus-a-copy\n",
      "  freq_fraud_data.drop_duplicates(inplace=True)\n"
     ]
    }
   ],
   "source": [
    "# Finding frequency of each fraud trader\n",
    "freq_fraud_data = fraud_data[['traderId','firstName', 'lastName','countryCode']]\n",
    "freq_fraud_data.drop_duplicates(inplace=True)"
   ]
  },
  {
   "cell_type": "code",
   "execution_count": 118,
   "metadata": {},
   "outputs": [
    {
     "data": {
      "text/html": [
       "<div>\n",
       "<style scoped>\n",
       "    .dataframe tbody tr th:only-of-type {\n",
       "        vertical-align: middle;\n",
       "    }\n",
       "\n",
       "    .dataframe tbody tr th {\n",
       "        vertical-align: top;\n",
       "    }\n",
       "\n",
       "    .dataframe thead th {\n",
       "        text-align: right;\n",
       "    }\n",
       "</style>\n",
       "<table border=\"1\" class=\"dataframe\">\n",
       "  <thead>\n",
       "    <tr style=\"text-align: right;\">\n",
       "      <th></th>\n",
       "      <th>traderId</th>\n",
       "      <th>firstName</th>\n",
       "      <th>lastName</th>\n",
       "      <th>countryCode</th>\n",
       "    </tr>\n",
       "  </thead>\n",
       "  <tbody>\n",
       "    <tr>\n",
       "      <th>0</th>\n",
       "      <td>pjjFIyeNTWRUWCuKoQSU</td>\n",
       "      <td>Brittany</td>\n",
       "      <td>Herring</td>\n",
       "      <td>NZ</td>\n",
       "    </tr>\n",
       "    <tr>\n",
       "      <th>1</th>\n",
       "      <td>deTclcaRrihIYAUADJPN</td>\n",
       "      <td>Vicki</td>\n",
       "      <td>Burgess</td>\n",
       "      <td>KZ</td>\n",
       "    </tr>\n",
       "    <tr>\n",
       "      <th>2</th>\n",
       "      <td>vHakrmHtTDvuKvIcxniB</td>\n",
       "      <td>Tony</td>\n",
       "      <td>Hoffman</td>\n",
       "      <td>TN</td>\n",
       "    </tr>\n",
       "    <tr>\n",
       "      <th>3</th>\n",
       "      <td>TzqyQTQjZGeLZuJqlLaQ</td>\n",
       "      <td>Allison</td>\n",
       "      <td>Davis</td>\n",
       "      <td>BT</td>\n",
       "    </tr>\n",
       "    <tr>\n",
       "      <th>4</th>\n",
       "      <td>sjAcfZksMRViIYdJRrnF</td>\n",
       "      <td>Scott</td>\n",
       "      <td>Thompson</td>\n",
       "      <td>MK</td>\n",
       "    </tr>\n",
       "    <tr>\n",
       "      <th>5</th>\n",
       "      <td>wsdSKUxJgukcXlhktChZ</td>\n",
       "      <td>Tonya</td>\n",
       "      <td>Hernandez</td>\n",
       "      <td>KP</td>\n",
       "    </tr>\n",
       "    <tr>\n",
       "      <th>6</th>\n",
       "      <td>WVcMKILUHtBkEahrPLrG</td>\n",
       "      <td>Blake</td>\n",
       "      <td>Martin</td>\n",
       "      <td>SZ</td>\n",
       "    </tr>\n",
       "    <tr>\n",
       "      <th>7</th>\n",
       "      <td>JyfwFVYySnPCaLuQIazT</td>\n",
       "      <td>John</td>\n",
       "      <td>Nguyen</td>\n",
       "      <td>KM</td>\n",
       "    </tr>\n",
       "    <tr>\n",
       "      <th>8</th>\n",
       "      <td>BJbHFDutYbbXjgkPWbwf</td>\n",
       "      <td>Jordan</td>\n",
       "      <td>Walker</td>\n",
       "      <td>RU</td>\n",
       "    </tr>\n",
       "    <tr>\n",
       "      <th>9</th>\n",
       "      <td>HToYfSueoxPSgBHsToac</td>\n",
       "      <td>Erin</td>\n",
       "      <td>Grant</td>\n",
       "      <td>LC</td>\n",
       "    </tr>\n",
       "    <tr>\n",
       "      <th>10</th>\n",
       "      <td>vDAqsRnDaMrcomXsosXG</td>\n",
       "      <td>Christine</td>\n",
       "      <td>Baldwin</td>\n",
       "      <td>JP</td>\n",
       "    </tr>\n",
       "    <tr>\n",
       "      <th>11</th>\n",
       "      <td>puCpymcjBdurvfVyRYry</td>\n",
       "      <td>Holly</td>\n",
       "      <td>Simmons</td>\n",
       "      <td>GT</td>\n",
       "    </tr>\n",
       "    <tr>\n",
       "      <th>12</th>\n",
       "      <td>xIZVPeFzGRmMglPrQfhK</td>\n",
       "      <td>Brandon</td>\n",
       "      <td>Berry</td>\n",
       "      <td>LA</td>\n",
       "    </tr>\n",
       "    <tr>\n",
       "      <th>13</th>\n",
       "      <td>goRcbvzSLJhZvFucyhbG</td>\n",
       "      <td>Crystal</td>\n",
       "      <td>Garcia</td>\n",
       "      <td>NG</td>\n",
       "    </tr>\n",
       "    <tr>\n",
       "      <th>14</th>\n",
       "      <td>RNvnAvOpyEVAoNGnVZQU</td>\n",
       "      <td>Kyle</td>\n",
       "      <td>Blair</td>\n",
       "      <td>GD</td>\n",
       "    </tr>\n",
       "    <tr>\n",
       "      <th>15</th>\n",
       "      <td>jDmYPxeqAWfCKCQCYFEx</td>\n",
       "      <td>Caitlyn</td>\n",
       "      <td>Cruz</td>\n",
       "      <td>NZ</td>\n",
       "    </tr>\n",
       "    <tr>\n",
       "      <th>16</th>\n",
       "      <td>MUVGtYHdeMdauAxzEJvt</td>\n",
       "      <td>Vanessa</td>\n",
       "      <td>Green</td>\n",
       "      <td>TV</td>\n",
       "    </tr>\n",
       "  </tbody>\n",
       "</table>\n",
       "</div>"
      ],
      "text/plain": [
       "                traderId  firstName   lastName countryCode\n",
       "0   pjjFIyeNTWRUWCuKoQSU   Brittany    Herring          NZ\n",
       "1   deTclcaRrihIYAUADJPN      Vicki    Burgess          KZ\n",
       "2   vHakrmHtTDvuKvIcxniB       Tony    Hoffman          TN\n",
       "3   TzqyQTQjZGeLZuJqlLaQ    Allison      Davis          BT\n",
       "4   sjAcfZksMRViIYdJRrnF      Scott   Thompson          MK\n",
       "5   wsdSKUxJgukcXlhktChZ      Tonya  Hernandez          KP\n",
       "6   WVcMKILUHtBkEahrPLrG      Blake     Martin          SZ\n",
       "7   JyfwFVYySnPCaLuQIazT       John     Nguyen          KM\n",
       "8   BJbHFDutYbbXjgkPWbwf     Jordan     Walker          RU\n",
       "9   HToYfSueoxPSgBHsToac       Erin      Grant          LC\n",
       "10  vDAqsRnDaMrcomXsosXG  Christine    Baldwin          JP\n",
       "11  puCpymcjBdurvfVyRYry      Holly    Simmons          GT\n",
       "12  xIZVPeFzGRmMglPrQfhK    Brandon      Berry          LA\n",
       "13  goRcbvzSLJhZvFucyhbG    Crystal     Garcia          NG\n",
       "14  RNvnAvOpyEVAoNGnVZQU       Kyle      Blair          GD\n",
       "15  jDmYPxeqAWfCKCQCYFEx    Caitlyn       Cruz          NZ\n",
       "16  MUVGtYHdeMdauAxzEJvt    Vanessa      Green          TV"
      ]
     },
     "execution_count": 118,
     "metadata": {},
     "output_type": "execute_result"
    }
   ],
   "source": [
    "freq_fraud_data.reset_index(drop=True)"
   ]
  },
  {
   "cell_type": "code",
   "execution_count": 119,
   "metadata": {},
   "outputs": [
    {
     "data": {
      "text/html": [
       "<div>\n",
       "<style scoped>\n",
       "    .dataframe tbody tr th:only-of-type {\n",
       "        vertical-align: middle;\n",
       "    }\n",
       "\n",
       "    .dataframe tbody tr th {\n",
       "        vertical-align: top;\n",
       "    }\n",
       "\n",
       "    .dataframe thead th {\n",
       "        text-align: right;\n",
       "    }\n",
       "</style>\n",
       "<table border=\"1\" class=\"dataframe\">\n",
       "  <thead>\n",
       "    <tr style=\"text-align: right;\">\n",
       "      <th></th>\n",
       "      <th>traderId</th>\n",
       "      <th>firstName</th>\n",
       "      <th>lastName</th>\n",
       "      <th>countryCode</th>\n",
       "      <th>traderFreq</th>\n",
       "    </tr>\n",
       "  </thead>\n",
       "  <tbody>\n",
       "    <tr>\n",
       "      <th>4</th>\n",
       "      <td>sjAcfZksMRViIYdJRrnF</td>\n",
       "      <td>Scott</td>\n",
       "      <td>Thompson</td>\n",
       "      <td>MK</td>\n",
       "      <td>5</td>\n",
       "    </tr>\n",
       "    <tr>\n",
       "      <th>0</th>\n",
       "      <td>pjjFIyeNTWRUWCuKoQSU</td>\n",
       "      <td>Brittany</td>\n",
       "      <td>Herring</td>\n",
       "      <td>NZ</td>\n",
       "      <td>4</td>\n",
       "    </tr>\n",
       "    <tr>\n",
       "      <th>7</th>\n",
       "      <td>JyfwFVYySnPCaLuQIazT</td>\n",
       "      <td>John</td>\n",
       "      <td>Nguyen</td>\n",
       "      <td>KM</td>\n",
       "      <td>4</td>\n",
       "    </tr>\n",
       "    <tr>\n",
       "      <th>14</th>\n",
       "      <td>RNvnAvOpyEVAoNGnVZQU</td>\n",
       "      <td>Kyle</td>\n",
       "      <td>Blair</td>\n",
       "      <td>GD</td>\n",
       "      <td>4</td>\n",
       "    </tr>\n",
       "    <tr>\n",
       "      <th>12</th>\n",
       "      <td>xIZVPeFzGRmMglPrQfhK</td>\n",
       "      <td>Brandon</td>\n",
       "      <td>Berry</td>\n",
       "      <td>LA</td>\n",
       "      <td>4</td>\n",
       "    </tr>\n",
       "    <tr>\n",
       "      <th>8</th>\n",
       "      <td>BJbHFDutYbbXjgkPWbwf</td>\n",
       "      <td>Jordan</td>\n",
       "      <td>Walker</td>\n",
       "      <td>RU</td>\n",
       "      <td>4</td>\n",
       "    </tr>\n",
       "    <tr>\n",
       "      <th>5</th>\n",
       "      <td>wsdSKUxJgukcXlhktChZ</td>\n",
       "      <td>Tonya</td>\n",
       "      <td>Hernandez</td>\n",
       "      <td>KP</td>\n",
       "      <td>4</td>\n",
       "    </tr>\n",
       "    <tr>\n",
       "      <th>9</th>\n",
       "      <td>HToYfSueoxPSgBHsToac</td>\n",
       "      <td>Erin</td>\n",
       "      <td>Grant</td>\n",
       "      <td>LC</td>\n",
       "      <td>3</td>\n",
       "    </tr>\n",
       "    <tr>\n",
       "      <th>10</th>\n",
       "      <td>vDAqsRnDaMrcomXsosXG</td>\n",
       "      <td>Christine</td>\n",
       "      <td>Baldwin</td>\n",
       "      <td>JP</td>\n",
       "      <td>3</td>\n",
       "    </tr>\n",
       "    <tr>\n",
       "      <th>16</th>\n",
       "      <td>MUVGtYHdeMdauAxzEJvt</td>\n",
       "      <td>Vanessa</td>\n",
       "      <td>Green</td>\n",
       "      <td>TV</td>\n",
       "      <td>3</td>\n",
       "    </tr>\n",
       "    <tr>\n",
       "      <th>6</th>\n",
       "      <td>WVcMKILUHtBkEahrPLrG</td>\n",
       "      <td>Blake</td>\n",
       "      <td>Martin</td>\n",
       "      <td>SZ</td>\n",
       "      <td>2</td>\n",
       "    </tr>\n",
       "    <tr>\n",
       "      <th>1</th>\n",
       "      <td>deTclcaRrihIYAUADJPN</td>\n",
       "      <td>Vicki</td>\n",
       "      <td>Burgess</td>\n",
       "      <td>KZ</td>\n",
       "      <td>2</td>\n",
       "    </tr>\n",
       "    <tr>\n",
       "      <th>11</th>\n",
       "      <td>puCpymcjBdurvfVyRYry</td>\n",
       "      <td>Holly</td>\n",
       "      <td>Simmons</td>\n",
       "      <td>GT</td>\n",
       "      <td>2</td>\n",
       "    </tr>\n",
       "    <tr>\n",
       "      <th>3</th>\n",
       "      <td>TzqyQTQjZGeLZuJqlLaQ</td>\n",
       "      <td>Allison</td>\n",
       "      <td>Davis</td>\n",
       "      <td>BT</td>\n",
       "      <td>2</td>\n",
       "    </tr>\n",
       "    <tr>\n",
       "      <th>13</th>\n",
       "      <td>goRcbvzSLJhZvFucyhbG</td>\n",
       "      <td>Crystal</td>\n",
       "      <td>Garcia</td>\n",
       "      <td>NG</td>\n",
       "      <td>2</td>\n",
       "    </tr>\n",
       "    <tr>\n",
       "      <th>15</th>\n",
       "      <td>jDmYPxeqAWfCKCQCYFEx</td>\n",
       "      <td>Caitlyn</td>\n",
       "      <td>Cruz</td>\n",
       "      <td>NZ</td>\n",
       "      <td>2</td>\n",
       "    </tr>\n",
       "    <tr>\n",
       "      <th>2</th>\n",
       "      <td>vHakrmHtTDvuKvIcxniB</td>\n",
       "      <td>Tony</td>\n",
       "      <td>Hoffman</td>\n",
       "      <td>TN</td>\n",
       "      <td>1</td>\n",
       "    </tr>\n",
       "  </tbody>\n",
       "</table>\n",
       "</div>"
      ],
      "text/plain": [
       "                traderId  firstName   lastName countryCode  traderFreq\n",
       "4   sjAcfZksMRViIYdJRrnF      Scott   Thompson          MK           5\n",
       "0   pjjFIyeNTWRUWCuKoQSU   Brittany    Herring          NZ           4\n",
       "7   JyfwFVYySnPCaLuQIazT       John     Nguyen          KM           4\n",
       "14  RNvnAvOpyEVAoNGnVZQU       Kyle      Blair          GD           4\n",
       "12  xIZVPeFzGRmMglPrQfhK    Brandon      Berry          LA           4\n",
       "8   BJbHFDutYbbXjgkPWbwf     Jordan     Walker          RU           4\n",
       "5   wsdSKUxJgukcXlhktChZ      Tonya  Hernandez          KP           4\n",
       "9   HToYfSueoxPSgBHsToac       Erin      Grant          LC           3\n",
       "10  vDAqsRnDaMrcomXsosXG  Christine    Baldwin          JP           3\n",
       "16  MUVGtYHdeMdauAxzEJvt    Vanessa      Green          TV           3\n",
       "6   WVcMKILUHtBkEahrPLrG      Blake     Martin          SZ           2\n",
       "1   deTclcaRrihIYAUADJPN      Vicki    Burgess          KZ           2\n",
       "11  puCpymcjBdurvfVyRYry      Holly    Simmons          GT           2\n",
       "3   TzqyQTQjZGeLZuJqlLaQ    Allison      Davis          BT           2\n",
       "13  goRcbvzSLJhZvFucyhbG    Crystal     Garcia          NG           2\n",
       "15  jDmYPxeqAWfCKCQCYFEx    Caitlyn       Cruz          NZ           2\n",
       "2   vHakrmHtTDvuKvIcxniB       Tony    Hoffman          TN           1"
      ]
     },
     "execution_count": 119,
     "metadata": {},
     "output_type": "execute_result"
    }
   ],
   "source": [
    "# Finding frequency of each fraud trader\n",
    "traderFreq = fraud_data.groupby(['traderId'])['traderId'].count()\n",
    "traderFreq = pd.DataFrame({'traderId':traderFreq.index, 'traderFreq':traderFreq.values}).reset_index(drop=True)\n",
    "\n",
    "# Merge two dataframes based on patient's ids.\n",
    "freq_fraud_data = pd.merge(freq_fraud_data,traderFreq,how='inner',on='traderId')\n",
    "\n",
    "freq_fraud_data.sort_values(by='traderFreq', ascending=False)"
   ]
  },
  {
   "cell_type": "code",
   "execution_count": 120,
   "metadata": {},
   "outputs": [
    {
     "data": {
      "text/html": [
       "<div>\n",
       "<style scoped>\n",
       "    .dataframe tbody tr th:only-of-type {\n",
       "        vertical-align: middle;\n",
       "    }\n",
       "\n",
       "    .dataframe tbody tr th {\n",
       "        vertical-align: top;\n",
       "    }\n",
       "\n",
       "    .dataframe thead th {\n",
       "        text-align: right;\n",
       "    }\n",
       "</style>\n",
       "<table border=\"1\" class=\"dataframe\">\n",
       "  <thead>\n",
       "    <tr style=\"text-align: right;\">\n",
       "      <th></th>\n",
       "      <th>traderId</th>\n",
       "      <th>firstName</th>\n",
       "      <th>lastName</th>\n",
       "      <th>countryCode</th>\n",
       "      <th>traderFreq</th>\n",
       "      <th>countryFreq</th>\n",
       "    </tr>\n",
       "  </thead>\n",
       "  <tbody>\n",
       "    <tr>\n",
       "      <th>0</th>\n",
       "      <td>pjjFIyeNTWRUWCuKoQSU</td>\n",
       "      <td>Brittany</td>\n",
       "      <td>Herring</td>\n",
       "      <td>NZ</td>\n",
       "      <td>4</td>\n",
       "      <td>2</td>\n",
       "    </tr>\n",
       "    <tr>\n",
       "      <th>1</th>\n",
       "      <td>deTclcaRrihIYAUADJPN</td>\n",
       "      <td>Vicki</td>\n",
       "      <td>Burgess</td>\n",
       "      <td>KZ</td>\n",
       "      <td>2</td>\n",
       "      <td>1</td>\n",
       "    </tr>\n",
       "    <tr>\n",
       "      <th>2</th>\n",
       "      <td>vHakrmHtTDvuKvIcxniB</td>\n",
       "      <td>Tony</td>\n",
       "      <td>Hoffman</td>\n",
       "      <td>TN</td>\n",
       "      <td>1</td>\n",
       "      <td>1</td>\n",
       "    </tr>\n",
       "    <tr>\n",
       "      <th>3</th>\n",
       "      <td>TzqyQTQjZGeLZuJqlLaQ</td>\n",
       "      <td>Allison</td>\n",
       "      <td>Davis</td>\n",
       "      <td>BT</td>\n",
       "      <td>2</td>\n",
       "      <td>1</td>\n",
       "    </tr>\n",
       "    <tr>\n",
       "      <th>4</th>\n",
       "      <td>sjAcfZksMRViIYdJRrnF</td>\n",
       "      <td>Scott</td>\n",
       "      <td>Thompson</td>\n",
       "      <td>MK</td>\n",
       "      <td>5</td>\n",
       "      <td>1</td>\n",
       "    </tr>\n",
       "    <tr>\n",
       "      <th>5</th>\n",
       "      <td>wsdSKUxJgukcXlhktChZ</td>\n",
       "      <td>Tonya</td>\n",
       "      <td>Hernandez</td>\n",
       "      <td>KP</td>\n",
       "      <td>4</td>\n",
       "      <td>1</td>\n",
       "    </tr>\n",
       "    <tr>\n",
       "      <th>6</th>\n",
       "      <td>WVcMKILUHtBkEahrPLrG</td>\n",
       "      <td>Blake</td>\n",
       "      <td>Martin</td>\n",
       "      <td>SZ</td>\n",
       "      <td>2</td>\n",
       "      <td>1</td>\n",
       "    </tr>\n",
       "    <tr>\n",
       "      <th>7</th>\n",
       "      <td>JyfwFVYySnPCaLuQIazT</td>\n",
       "      <td>John</td>\n",
       "      <td>Nguyen</td>\n",
       "      <td>KM</td>\n",
       "      <td>4</td>\n",
       "      <td>1</td>\n",
       "    </tr>\n",
       "    <tr>\n",
       "      <th>8</th>\n",
       "      <td>BJbHFDutYbbXjgkPWbwf</td>\n",
       "      <td>Jordan</td>\n",
       "      <td>Walker</td>\n",
       "      <td>RU</td>\n",
       "      <td>4</td>\n",
       "      <td>1</td>\n",
       "    </tr>\n",
       "    <tr>\n",
       "      <th>9</th>\n",
       "      <td>HToYfSueoxPSgBHsToac</td>\n",
       "      <td>Erin</td>\n",
       "      <td>Grant</td>\n",
       "      <td>LC</td>\n",
       "      <td>3</td>\n",
       "      <td>1</td>\n",
       "    </tr>\n",
       "    <tr>\n",
       "      <th>10</th>\n",
       "      <td>vDAqsRnDaMrcomXsosXG</td>\n",
       "      <td>Christine</td>\n",
       "      <td>Baldwin</td>\n",
       "      <td>JP</td>\n",
       "      <td>3</td>\n",
       "      <td>1</td>\n",
       "    </tr>\n",
       "    <tr>\n",
       "      <th>11</th>\n",
       "      <td>puCpymcjBdurvfVyRYry</td>\n",
       "      <td>Holly</td>\n",
       "      <td>Simmons</td>\n",
       "      <td>GT</td>\n",
       "      <td>2</td>\n",
       "      <td>1</td>\n",
       "    </tr>\n",
       "    <tr>\n",
       "      <th>12</th>\n",
       "      <td>xIZVPeFzGRmMglPrQfhK</td>\n",
       "      <td>Brandon</td>\n",
       "      <td>Berry</td>\n",
       "      <td>LA</td>\n",
       "      <td>4</td>\n",
       "      <td>1</td>\n",
       "    </tr>\n",
       "    <tr>\n",
       "      <th>13</th>\n",
       "      <td>goRcbvzSLJhZvFucyhbG</td>\n",
       "      <td>Crystal</td>\n",
       "      <td>Garcia</td>\n",
       "      <td>NG</td>\n",
       "      <td>2</td>\n",
       "      <td>1</td>\n",
       "    </tr>\n",
       "    <tr>\n",
       "      <th>14</th>\n",
       "      <td>RNvnAvOpyEVAoNGnVZQU</td>\n",
       "      <td>Kyle</td>\n",
       "      <td>Blair</td>\n",
       "      <td>GD</td>\n",
       "      <td>4</td>\n",
       "      <td>1</td>\n",
       "    </tr>\n",
       "    <tr>\n",
       "      <th>15</th>\n",
       "      <td>jDmYPxeqAWfCKCQCYFEx</td>\n",
       "      <td>Caitlyn</td>\n",
       "      <td>Cruz</td>\n",
       "      <td>NZ</td>\n",
       "      <td>2</td>\n",
       "      <td>2</td>\n",
       "    </tr>\n",
       "    <tr>\n",
       "      <th>16</th>\n",
       "      <td>MUVGtYHdeMdauAxzEJvt</td>\n",
       "      <td>Vanessa</td>\n",
       "      <td>Green</td>\n",
       "      <td>TV</td>\n",
       "      <td>3</td>\n",
       "      <td>1</td>\n",
       "    </tr>\n",
       "  </tbody>\n",
       "</table>\n",
       "</div>"
      ],
      "text/plain": [
       "                traderId  firstName   lastName countryCode  traderFreq  \\\n",
       "0   pjjFIyeNTWRUWCuKoQSU   Brittany    Herring          NZ           4   \n",
       "1   deTclcaRrihIYAUADJPN      Vicki    Burgess          KZ           2   \n",
       "2   vHakrmHtTDvuKvIcxniB       Tony    Hoffman          TN           1   \n",
       "3   TzqyQTQjZGeLZuJqlLaQ    Allison      Davis          BT           2   \n",
       "4   sjAcfZksMRViIYdJRrnF      Scott   Thompson          MK           5   \n",
       "5   wsdSKUxJgukcXlhktChZ      Tonya  Hernandez          KP           4   \n",
       "6   WVcMKILUHtBkEahrPLrG      Blake     Martin          SZ           2   \n",
       "7   JyfwFVYySnPCaLuQIazT       John     Nguyen          KM           4   \n",
       "8   BJbHFDutYbbXjgkPWbwf     Jordan     Walker          RU           4   \n",
       "9   HToYfSueoxPSgBHsToac       Erin      Grant          LC           3   \n",
       "10  vDAqsRnDaMrcomXsosXG  Christine    Baldwin          JP           3   \n",
       "11  puCpymcjBdurvfVyRYry      Holly    Simmons          GT           2   \n",
       "12  xIZVPeFzGRmMglPrQfhK    Brandon      Berry          LA           4   \n",
       "13  goRcbvzSLJhZvFucyhbG    Crystal     Garcia          NG           2   \n",
       "14  RNvnAvOpyEVAoNGnVZQU       Kyle      Blair          GD           4   \n",
       "15  jDmYPxeqAWfCKCQCYFEx    Caitlyn       Cruz          NZ           2   \n",
       "16  MUVGtYHdeMdauAxzEJvt    Vanessa      Green          TV           3   \n",
       "\n",
       "    countryFreq  \n",
       "0             2  \n",
       "1             1  \n",
       "2             1  \n",
       "3             1  \n",
       "4             1  \n",
       "5             1  \n",
       "6             1  \n",
       "7             1  \n",
       "8             1  \n",
       "9             1  \n",
       "10            1  \n",
       "11            1  \n",
       "12            1  \n",
       "13            1  \n",
       "14            1  \n",
       "15            2  \n",
       "16            1  "
      ]
     },
     "execution_count": 120,
     "metadata": {},
     "output_type": "execute_result"
    }
   ],
   "source": [
    "freq_fraud_data['countryFreq'] = freq_fraud_data.groupby('countryCode')['countryCode'].transform('count')\n",
    "freq_fraud_data"
   ]
  },
  {
   "cell_type": "code",
   "execution_count": 121,
   "metadata": {},
   "outputs": [
    {
     "data": {
      "text/html": [
       "<div>\n",
       "<style scoped>\n",
       "    .dataframe tbody tr th:only-of-type {\n",
       "        vertical-align: middle;\n",
       "    }\n",
       "\n",
       "    .dataframe tbody tr th {\n",
       "        vertical-align: top;\n",
       "    }\n",
       "\n",
       "    .dataframe thead th {\n",
       "        text-align: right;\n",
       "    }\n",
       "</style>\n",
       "<table border=\"1\" class=\"dataframe\">\n",
       "  <thead>\n",
       "    <tr style=\"text-align: right;\">\n",
       "      <th></th>\n",
       "      <th>traderId</th>\n",
       "      <th>firstName</th>\n",
       "      <th>lastName</th>\n",
       "      <th>countryCode</th>\n",
       "      <th>traderFreq</th>\n",
       "      <th>countryFreq</th>\n",
       "      <th>traderRank</th>\n",
       "    </tr>\n",
       "  </thead>\n",
       "  <tbody>\n",
       "    <tr>\n",
       "      <th>4</th>\n",
       "      <td>sjAcfZksMRViIYdJRrnF</td>\n",
       "      <td>Scott</td>\n",
       "      <td>Thompson</td>\n",
       "      <td>MK</td>\n",
       "      <td>5</td>\n",
       "      <td>1</td>\n",
       "      <td>1.0</td>\n",
       "    </tr>\n",
       "    <tr>\n",
       "      <th>0</th>\n",
       "      <td>pjjFIyeNTWRUWCuKoQSU</td>\n",
       "      <td>Brittany</td>\n",
       "      <td>Herring</td>\n",
       "      <td>NZ</td>\n",
       "      <td>4</td>\n",
       "      <td>2</td>\n",
       "      <td>4.5</td>\n",
       "    </tr>\n",
       "    <tr>\n",
       "      <th>14</th>\n",
       "      <td>RNvnAvOpyEVAoNGnVZQU</td>\n",
       "      <td>Kyle</td>\n",
       "      <td>Blair</td>\n",
       "      <td>GD</td>\n",
       "      <td>4</td>\n",
       "      <td>1</td>\n",
       "      <td>4.5</td>\n",
       "    </tr>\n",
       "    <tr>\n",
       "      <th>12</th>\n",
       "      <td>xIZVPeFzGRmMglPrQfhK</td>\n",
       "      <td>Brandon</td>\n",
       "      <td>Berry</td>\n",
       "      <td>LA</td>\n",
       "      <td>4</td>\n",
       "      <td>1</td>\n",
       "      <td>4.5</td>\n",
       "    </tr>\n",
       "    <tr>\n",
       "      <th>7</th>\n",
       "      <td>JyfwFVYySnPCaLuQIazT</td>\n",
       "      <td>John</td>\n",
       "      <td>Nguyen</td>\n",
       "      <td>KM</td>\n",
       "      <td>4</td>\n",
       "      <td>1</td>\n",
       "      <td>4.5</td>\n",
       "    </tr>\n",
       "    <tr>\n",
       "      <th>8</th>\n",
       "      <td>BJbHFDutYbbXjgkPWbwf</td>\n",
       "      <td>Jordan</td>\n",
       "      <td>Walker</td>\n",
       "      <td>RU</td>\n",
       "      <td>4</td>\n",
       "      <td>1</td>\n",
       "      <td>4.5</td>\n",
       "    </tr>\n",
       "    <tr>\n",
       "      <th>5</th>\n",
       "      <td>wsdSKUxJgukcXlhktChZ</td>\n",
       "      <td>Tonya</td>\n",
       "      <td>Hernandez</td>\n",
       "      <td>KP</td>\n",
       "      <td>4</td>\n",
       "      <td>1</td>\n",
       "      <td>4.5</td>\n",
       "    </tr>\n",
       "    <tr>\n",
       "      <th>9</th>\n",
       "      <td>HToYfSueoxPSgBHsToac</td>\n",
       "      <td>Erin</td>\n",
       "      <td>Grant</td>\n",
       "      <td>LC</td>\n",
       "      <td>3</td>\n",
       "      <td>1</td>\n",
       "      <td>9.0</td>\n",
       "    </tr>\n",
       "    <tr>\n",
       "      <th>10</th>\n",
       "      <td>vDAqsRnDaMrcomXsosXG</td>\n",
       "      <td>Christine</td>\n",
       "      <td>Baldwin</td>\n",
       "      <td>JP</td>\n",
       "      <td>3</td>\n",
       "      <td>1</td>\n",
       "      <td>9.0</td>\n",
       "    </tr>\n",
       "    <tr>\n",
       "      <th>16</th>\n",
       "      <td>MUVGtYHdeMdauAxzEJvt</td>\n",
       "      <td>Vanessa</td>\n",
       "      <td>Green</td>\n",
       "      <td>TV</td>\n",
       "      <td>3</td>\n",
       "      <td>1</td>\n",
       "      <td>9.0</td>\n",
       "    </tr>\n",
       "    <tr>\n",
       "      <th>6</th>\n",
       "      <td>WVcMKILUHtBkEahrPLrG</td>\n",
       "      <td>Blake</td>\n",
       "      <td>Martin</td>\n",
       "      <td>SZ</td>\n",
       "      <td>2</td>\n",
       "      <td>1</td>\n",
       "      <td>13.5</td>\n",
       "    </tr>\n",
       "    <tr>\n",
       "      <th>3</th>\n",
       "      <td>TzqyQTQjZGeLZuJqlLaQ</td>\n",
       "      <td>Allison</td>\n",
       "      <td>Davis</td>\n",
       "      <td>BT</td>\n",
       "      <td>2</td>\n",
       "      <td>1</td>\n",
       "      <td>13.5</td>\n",
       "    </tr>\n",
       "    <tr>\n",
       "      <th>15</th>\n",
       "      <td>jDmYPxeqAWfCKCQCYFEx</td>\n",
       "      <td>Caitlyn</td>\n",
       "      <td>Cruz</td>\n",
       "      <td>NZ</td>\n",
       "      <td>2</td>\n",
       "      <td>2</td>\n",
       "      <td>13.5</td>\n",
       "    </tr>\n",
       "    <tr>\n",
       "      <th>11</th>\n",
       "      <td>puCpymcjBdurvfVyRYry</td>\n",
       "      <td>Holly</td>\n",
       "      <td>Simmons</td>\n",
       "      <td>GT</td>\n",
       "      <td>2</td>\n",
       "      <td>1</td>\n",
       "      <td>13.5</td>\n",
       "    </tr>\n",
       "    <tr>\n",
       "      <th>13</th>\n",
       "      <td>goRcbvzSLJhZvFucyhbG</td>\n",
       "      <td>Crystal</td>\n",
       "      <td>Garcia</td>\n",
       "      <td>NG</td>\n",
       "      <td>2</td>\n",
       "      <td>1</td>\n",
       "      <td>13.5</td>\n",
       "    </tr>\n",
       "    <tr>\n",
       "      <th>1</th>\n",
       "      <td>deTclcaRrihIYAUADJPN</td>\n",
       "      <td>Vicki</td>\n",
       "      <td>Burgess</td>\n",
       "      <td>KZ</td>\n",
       "      <td>2</td>\n",
       "      <td>1</td>\n",
       "      <td>13.5</td>\n",
       "    </tr>\n",
       "    <tr>\n",
       "      <th>2</th>\n",
       "      <td>vHakrmHtTDvuKvIcxniB</td>\n",
       "      <td>Tony</td>\n",
       "      <td>Hoffman</td>\n",
       "      <td>TN</td>\n",
       "      <td>1</td>\n",
       "      <td>1</td>\n",
       "      <td>17.0</td>\n",
       "    </tr>\n",
       "  </tbody>\n",
       "</table>\n",
       "</div>"
      ],
      "text/plain": [
       "                traderId  firstName   lastName countryCode  traderFreq  \\\n",
       "4   sjAcfZksMRViIYdJRrnF      Scott   Thompson          MK           5   \n",
       "0   pjjFIyeNTWRUWCuKoQSU   Brittany    Herring          NZ           4   \n",
       "14  RNvnAvOpyEVAoNGnVZQU       Kyle      Blair          GD           4   \n",
       "12  xIZVPeFzGRmMglPrQfhK    Brandon      Berry          LA           4   \n",
       "7   JyfwFVYySnPCaLuQIazT       John     Nguyen          KM           4   \n",
       "8   BJbHFDutYbbXjgkPWbwf     Jordan     Walker          RU           4   \n",
       "5   wsdSKUxJgukcXlhktChZ      Tonya  Hernandez          KP           4   \n",
       "9   HToYfSueoxPSgBHsToac       Erin      Grant          LC           3   \n",
       "10  vDAqsRnDaMrcomXsosXG  Christine    Baldwin          JP           3   \n",
       "16  MUVGtYHdeMdauAxzEJvt    Vanessa      Green          TV           3   \n",
       "6   WVcMKILUHtBkEahrPLrG      Blake     Martin          SZ           2   \n",
       "3   TzqyQTQjZGeLZuJqlLaQ    Allison      Davis          BT           2   \n",
       "15  jDmYPxeqAWfCKCQCYFEx    Caitlyn       Cruz          NZ           2   \n",
       "11  puCpymcjBdurvfVyRYry      Holly    Simmons          GT           2   \n",
       "13  goRcbvzSLJhZvFucyhbG    Crystal     Garcia          NG           2   \n",
       "1   deTclcaRrihIYAUADJPN      Vicki    Burgess          KZ           2   \n",
       "2   vHakrmHtTDvuKvIcxniB       Tony    Hoffman          TN           1   \n",
       "\n",
       "    countryFreq  traderRank  \n",
       "4             1         1.0  \n",
       "0             2         4.5  \n",
       "14            1         4.5  \n",
       "12            1         4.5  \n",
       "7             1         4.5  \n",
       "8             1         4.5  \n",
       "5             1         4.5  \n",
       "9             1         9.0  \n",
       "10            1         9.0  \n",
       "16            1         9.0  \n",
       "6             1        13.5  \n",
       "3             1        13.5  \n",
       "15            2        13.5  \n",
       "11            1        13.5  \n",
       "13            1        13.5  \n",
       "1             1        13.5  \n",
       "2             1        17.0  "
      ]
     },
     "execution_count": 121,
     "metadata": {},
     "output_type": "execute_result"
    }
   ],
   "source": [
    "# Trader rank by number of suspicious orders\n",
    "freq_fraud_data['traderRank'] = freq_fraud_data['traderFreq'].rank(ascending=False)\n",
    "freq_fraud_data.sort_values(by='traderRank')"
   ]
  },
  {
   "cell_type": "code",
   "execution_count": 122,
   "metadata": {},
   "outputs": [
    {
     "data": {
      "text/html": [
       "<div>\n",
       "<style scoped>\n",
       "    .dataframe tbody tr th:only-of-type {\n",
       "        vertical-align: middle;\n",
       "    }\n",
       "\n",
       "    .dataframe tbody tr th {\n",
       "        vertical-align: top;\n",
       "    }\n",
       "\n",
       "    .dataframe thead th {\n",
       "        text-align: right;\n",
       "    }\n",
       "</style>\n",
       "<table border=\"1\" class=\"dataframe\">\n",
       "  <thead>\n",
       "    <tr style=\"text-align: right;\">\n",
       "      <th></th>\n",
       "      <th>traderFreq</th>\n",
       "      <th>countryFreq</th>\n",
       "    </tr>\n",
       "  </thead>\n",
       "  <tbody>\n",
       "    <tr>\n",
       "      <th>traderFreq</th>\n",
       "      <td>1.0</td>\n",
       "      <td>0.0</td>\n",
       "    </tr>\n",
       "    <tr>\n",
       "      <th>countryFreq</th>\n",
       "      <td>0.0</td>\n",
       "      <td>1.0</td>\n",
       "    </tr>\n",
       "  </tbody>\n",
       "</table>\n",
       "</div>"
      ],
      "text/plain": [
       "             traderFreq  countryFreq\n",
       "traderFreq          1.0          0.0\n",
       "countryFreq         0.0          1.0"
      ]
     },
     "execution_count": 122,
     "metadata": {},
     "output_type": "execute_result"
    }
   ],
   "source": [
    "freq_fraud_data[['traderFreq','countryFreq']].corr()"
   ]
  },
  {
   "cell_type": "code",
   "execution_count": 126,
   "metadata": {},
   "outputs": [
    {
     "data": {
      "image/png": "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\n",
      "text/plain": [
       "<Figure size 432x288 with 2 Axes>"
      ]
     },
     "metadata": {
      "needs_background": "light"
     },
     "output_type": "display_data"
    }
   ],
   "source": [
    "# Lets find correlation between the nationality of the trader and the tendency to make suspicious orders \n",
    "plt.title('Pearson Correlation Matrix between Trader Frequency & their Country')\n",
    "sns.heatmap(freq_fraud_data[['traderFreq','countryFreq']].corr(),linewidths=0.25,vmax=0.7,square=True,\n",
    "            cmap=\"winter\", linecolor='b',annot=True) \n",
    "plt.show()"
   ]
  },
  {
   "cell_type": "markdown",
   "metadata": {},
   "source": [
    "### There is no relation between frequency of making suspicious order of a particular trader to his country."
   ]
  },
  {
   "cell_type": "code",
   "execution_count": 124,
   "metadata": {},
   "outputs": [
    {
     "data": {
      "image/png": "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\n",
      "text/plain": [
       "<Figure size 432x288 with 1 Axes>"
      ]
     },
     "metadata": {
      "needs_background": "light"
     },
     "output_type": "display_data"
    }
   ],
   "source": [
    "sns.scatterplot(x='traderFreq', y='countryFreq', data=freq_fraud_data)\n",
    "plt.show()"
>>>>>>> master
   ]
  },
  {
   "cell_type": "code",
   "execution_count": null,
   "metadata": {},
   "outputs": [],
   "source": []
  }
 ],
 "metadata": {
  "kernelspec": {
   "display_name": "Python 3",
   "language": "python",
   "name": "python3"
  },
  "language_info": {
   "codemirror_mode": {
    "name": "ipython",
    "version": 3
   },
   "file_extension": ".py",
   "mimetype": "text/x-python",
   "name": "python",
   "nbconvert_exporter": "python",
   "pygments_lexer": "ipython3",
   "version": "3.8.5"
  }
 },
 "nbformat": 4,
 "nbformat_minor": 4
}
