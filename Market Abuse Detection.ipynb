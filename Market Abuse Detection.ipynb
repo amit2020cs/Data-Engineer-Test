{
 "cells": [
  {
   "cell_type": "code",
   "execution_count": 1,
   "metadata": {},
   "outputs": [],
   "source": [
    "import pandas as pd\n",
    "import matplotlib.pyplot as plt\n",
    "import seaborn as sns"
   ]
  },
  {
   "cell_type": "code",
   "execution_count": 2,
   "metadata": {},
   "outputs": [],
   "source": [
    "df = pd.read_csv(\"traders_data.csv\")"
   ]
  },
  {
   "cell_type": "code",
   "execution_count": 3,
   "metadata": {},
   "outputs": [
    {
     "data": {
      "text/html": [
       "<div>\n",
       "<style scoped>\n",
       "    .dataframe tbody tr th:only-of-type {\n",
       "        vertical-align: middle;\n",
       "    }\n",
       "\n",
       "    .dataframe tbody tr th {\n",
       "        vertical-align: top;\n",
       "    }\n",
       "\n",
       "    .dataframe thead th {\n",
       "        text-align: right;\n",
       "    }\n",
       "</style>\n",
       "<table border=\"1\" class=\"dataframe\">\n",
       "  <thead>\n",
       "    <tr style=\"text-align: right;\">\n",
       "      <th></th>\n",
       "      <th>countryCode</th>\n",
       "      <th>firstName</th>\n",
       "      <th>lastName</th>\n",
       "      <th>traderId</th>\n",
       "      <th>stockSymbol</th>\n",
       "      <th>stockName</th>\n",
       "      <th>tradeId</th>\n",
       "      <th>price</th>\n",
       "      <th>volume</th>\n",
       "      <th>tradeDatetime</th>\n",
       "    </tr>\n",
       "  </thead>\n",
       "  <tbody>\n",
       "    <tr>\n",
       "      <th>0</th>\n",
       "      <td>TV</td>\n",
       "      <td>Vanessa</td>\n",
       "      <td>Green</td>\n",
       "      <td>MUVGtYHdeMdauAxzEJvt</td>\n",
       "      <td>FB</td>\n",
       "      <td>Facebook</td>\n",
       "      <td>NaN</td>\n",
       "      <td>1701.760000</td>\n",
       "      <td>58.0</td>\n",
       "      <td>2020-04-03 07:03:32</td>\n",
       "    </tr>\n",
       "    <tr>\n",
       "      <th>1</th>\n",
       "      <td>NaN</td>\n",
       "      <td>NaN</td>\n",
       "      <td>NaN</td>\n",
       "      <td>NaN</td>\n",
       "      <td>FB</td>\n",
       "      <td>Facebook</td>\n",
       "      <td>P5-3756422C</td>\n",
       "      <td>NaN</td>\n",
       "      <td>98.0</td>\n",
       "      <td>2020-01-13 08:29:53</td>\n",
       "    </tr>\n",
       "    <tr>\n",
       "      <th>2</th>\n",
       "      <td>UZ</td>\n",
       "      <td>Brandi</td>\n",
       "      <td>Robbins</td>\n",
       "      <td>JTzVqzzIkFlrYUQbhnOR</td>\n",
       "      <td>AMZN</td>\n",
       "      <td>Amazon</td>\n",
       "      <td>X0-7401234c</td>\n",
       "      <td>1857.630560</td>\n",
       "      <td>NaN</td>\n",
       "      <td>2020-07-16 07:18:39</td>\n",
       "    </tr>\n",
       "    <tr>\n",
       "      <th>3</th>\n",
       "      <td>BT</td>\n",
       "      <td>Allison</td>\n",
       "      <td>Davis</td>\n",
       "      <td>TzqyQTQjZGeLZuJqlLaQ</td>\n",
       "      <td>AMZN</td>\n",
       "      <td>Amazon</td>\n",
       "      <td>K3-3189326K</td>\n",
       "      <td>2078.440300</td>\n",
       "      <td>32.0</td>\n",
       "      <td>2020-07-07 13:59:03</td>\n",
       "    </tr>\n",
       "    <tr>\n",
       "      <th>4</th>\n",
       "      <td>SZ</td>\n",
       "      <td>Blake</td>\n",
       "      <td>Martin</td>\n",
       "      <td>WVcMKILUHtBkEahrPLrG</td>\n",
       "      <td>FB</td>\n",
       "      <td>Facebook</td>\n",
       "      <td>U4-1266883G</td>\n",
       "      <td>1809.600000</td>\n",
       "      <td>212.0</td>\n",
       "      <td>2020-08-01 02:57:54</td>\n",
       "    </tr>\n",
       "    <tr>\n",
       "      <th>...</th>\n",
       "      <td>...</td>\n",
       "      <td>...</td>\n",
       "      <td>...</td>\n",
       "      <td>...</td>\n",
       "      <td>...</td>\n",
       "      <td>...</td>\n",
       "      <td>...</td>\n",
       "      <td>...</td>\n",
       "      <td>...</td>\n",
       "      <td>...</td>\n",
       "    </tr>\n",
       "    <tr>\n",
       "      <th>995</th>\n",
       "      <td>KZ</td>\n",
       "      <td>Vicki</td>\n",
       "      <td>Burgess</td>\n",
       "      <td>deTclcaRrihIYAUADJPN</td>\n",
       "      <td>AMZN</td>\n",
       "      <td>Amazon</td>\n",
       "      <td>j3-8758429Q</td>\n",
       "      <td>1554.962000</td>\n",
       "      <td>243.0</td>\n",
       "      <td>2020-03-12 19:42:37</td>\n",
       "    </tr>\n",
       "    <tr>\n",
       "      <th>996</th>\n",
       "      <td>NaN</td>\n",
       "      <td>NaN</td>\n",
       "      <td>NaN</td>\n",
       "      <td>NaN</td>\n",
       "      <td>AMZN</td>\n",
       "      <td>Amazon</td>\n",
       "      <td>K3-7867680F</td>\n",
       "      <td>2285.000000</td>\n",
       "      <td>4.0</td>\n",
       "      <td>2020-07-21 05:36:12</td>\n",
       "    </tr>\n",
       "    <tr>\n",
       "      <th>997</th>\n",
       "      <td>KZ</td>\n",
       "      <td>Vicki</td>\n",
       "      <td>Burgess</td>\n",
       "      <td>deTclcaRrihIYAUADJPN</td>\n",
       "      <td>FB</td>\n",
       "      <td>Facebook</td>\n",
       "      <td>S8-7693720h</td>\n",
       "      <td>1935.760000</td>\n",
       "      <td>223.0</td>\n",
       "      <td>2020-02-05 23:28:16</td>\n",
       "    </tr>\n",
       "    <tr>\n",
       "      <th>998</th>\n",
       "      <td>CV</td>\n",
       "      <td>April</td>\n",
       "      <td>Floyd</td>\n",
       "      <td>stOzTFyGrgJGPgVPVTJQ</td>\n",
       "      <td>AMZN</td>\n",
       "      <td>Amazon</td>\n",
       "      <td>z1-1234462u</td>\n",
       "      <td>2039.582452</td>\n",
       "      <td>52.0</td>\n",
       "      <td>2020-06-24 13:28:57</td>\n",
       "    </tr>\n",
       "    <tr>\n",
       "      <th>999</th>\n",
       "      <td>LA</td>\n",
       "      <td>Brandon</td>\n",
       "      <td>Berry</td>\n",
       "      <td>xIZVPeFzGRmMglPrQfhK</td>\n",
       "      <td>FB</td>\n",
       "      <td>Facebook</td>\n",
       "      <td>g7-2872947d</td>\n",
       "      <td>2332.000000</td>\n",
       "      <td>85.0</td>\n",
       "      <td>2020-03-25 04:07:42</td>\n",
       "    </tr>\n",
       "  </tbody>\n",
       "</table>\n",
       "<p>1000 rows × 10 columns</p>\n",
       "</div>"
      ],
      "text/plain": [
       "    countryCode firstName lastName              traderId stockSymbol  \\\n",
       "0            TV   Vanessa    Green  MUVGtYHdeMdauAxzEJvt          FB   \n",
       "1           NaN       NaN      NaN                   NaN          FB   \n",
       "2            UZ    Brandi  Robbins  JTzVqzzIkFlrYUQbhnOR        AMZN   \n",
       "3            BT   Allison    Davis  TzqyQTQjZGeLZuJqlLaQ        AMZN   \n",
       "4            SZ     Blake   Martin  WVcMKILUHtBkEahrPLrG          FB   \n",
       "..          ...       ...      ...                   ...         ...   \n",
       "995          KZ     Vicki  Burgess  deTclcaRrihIYAUADJPN        AMZN   \n",
       "996         NaN       NaN      NaN                   NaN        AMZN   \n",
       "997          KZ     Vicki  Burgess  deTclcaRrihIYAUADJPN          FB   \n",
       "998          CV     April    Floyd  stOzTFyGrgJGPgVPVTJQ        AMZN   \n",
       "999          LA   Brandon    Berry  xIZVPeFzGRmMglPrQfhK          FB   \n",
       "\n",
       "    stockName      tradeId        price  volume        tradeDatetime  \n",
       "0    Facebook          NaN  1701.760000    58.0  2020-04-03 07:03:32  \n",
       "1    Facebook  P5-3756422C          NaN    98.0  2020-01-13 08:29:53  \n",
       "2      Amazon  X0-7401234c  1857.630560     NaN  2020-07-16 07:18:39  \n",
       "3      Amazon  K3-3189326K  2078.440300    32.0  2020-07-07 13:59:03  \n",
       "4    Facebook  U4-1266883G  1809.600000   212.0  2020-08-01 02:57:54  \n",
       "..        ...          ...          ...     ...                  ...  \n",
       "995    Amazon  j3-8758429Q  1554.962000   243.0  2020-03-12 19:42:37  \n",
       "996    Amazon  K3-7867680F  2285.000000     4.0  2020-07-21 05:36:12  \n",
       "997  Facebook  S8-7693720h  1935.760000   223.0  2020-02-05 23:28:16  \n",
       "998    Amazon  z1-1234462u  2039.582452    52.0  2020-06-24 13:28:57  \n",
       "999  Facebook  g7-2872947d  2332.000000    85.0  2020-03-25 04:07:42  \n",
       "\n",
       "[1000 rows x 10 columns]"
      ]
     },
     "execution_count": 3,
     "metadata": {},
     "output_type": "execute_result"
    }
   ],
   "source": [
    "df"
   ]
  },
  {
   "cell_type": "code",
   "execution_count": 4,
   "metadata": {},
   "outputs": [
    {
     "name": "stdout",
     "output_type": "stream",
     "text": [
      "<class 'pandas.core.frame.DataFrame'>\n",
      "RangeIndex: 1000 entries, 0 to 999\n",
      "Data columns (total 10 columns):\n",
      " #   Column         Non-Null Count  Dtype  \n",
      "---  ------         --------------  -----  \n",
      " 0   countryCode    795 non-null    object \n",
      " 1   firstName      795 non-null    object \n",
      " 2   lastName       795 non-null    object \n",
      " 3   traderId       795 non-null    object \n",
      " 4   stockSymbol    913 non-null    object \n",
      " 5   stockName      913 non-null    object \n",
      " 6   tradeId        909 non-null    object \n",
      " 7   price          898 non-null    float64\n",
      " 8   volume         895 non-null    float64\n",
      " 9   tradeDatetime  902 non-null    object \n",
      "dtypes: float64(2), object(8)\n",
      "memory usage: 78.2+ KB\n"
     ]
    }
   ],
   "source": [
    "df.info()"
   ]
  },
  {
   "cell_type": "markdown",
   "metadata": {},
   "source": [
    " \n",
    "1) Dataset contains details of 1000 trading details in 10 features.  \n",
    "2) Every feature have missing values.   \n",
    "3) tradeDatetime data type is string that need to convert to datetime.    \n",
    "4) Memory Usage: 78.2 KB   \n",
    "\n"
   ]
  },
  {
   "cell_type": "markdown",
   "metadata": {},
   "source": [
    "## Date Preprocessing"
   ]
  },
  {
   "cell_type": "code",
   "execution_count": 5,
   "metadata": {},
   "outputs": [],
   "source": [
    "\n",
    "# Updating datatype of 'tradeDatetime' from string to datetime\n",
    "df['tradeDatetime'] = pd.to_datetime(df['tradeDatetime'])\n",
    "\n",
    "# Removing the time stamp from the datatime \n",
    "df['tradeDate'] = df['tradeDatetime'].apply(lambda x: pd.to_datetime(x.date()))\n",
    "\n",
    "df['tradeDate'] = pd.to_datetime(df['tradeDate'])\n",
    "# traders_data['volume'] = traders_data['volume'].astype(int)\n",
    "\n"
   ]
  },
  {
   "cell_type": "code",
   "execution_count": 6,
   "metadata": {},
   "outputs": [
    {
     "data": {
      "text/plain": [
       "countryCode       19\n",
       "firstName         20\n",
       "lastName          20\n",
       "traderId          20\n",
       "stockSymbol        3\n",
       "stockName          3\n",
       "tradeId          909\n",
       "price            879\n",
       "volume           286\n",
       "tradeDatetime    902\n",
       "tradeDate        206\n",
       "dtype: int64"
      ]
     },
     "execution_count": 6,
     "metadata": {},
     "output_type": "execute_result"
    }
   ],
   "source": [
    "# To understand which column is categorical and which one is Continuous\n",
    "df.nunique()"
   ]
  },
  {
   "cell_type": "code",
   "execution_count": 7,
   "metadata": {},
   "outputs": [
    {
     "data": {
      "text/html": [
       "<div>\n",
       "<style scoped>\n",
       "    .dataframe tbody tr th:only-of-type {\n",
       "        vertical-align: middle;\n",
       "    }\n",
       "\n",
       "    .dataframe tbody tr th {\n",
       "        vertical-align: top;\n",
       "    }\n",
       "\n",
       "    .dataframe thead th {\n",
       "        text-align: right;\n",
       "    }\n",
       "</style>\n",
       "<table border=\"1\" class=\"dataframe\">\n",
       "  <thead>\n",
       "    <tr style=\"text-align: right;\">\n",
       "      <th></th>\n",
       "      <th>price</th>\n",
       "      <th>volume</th>\n",
       "    </tr>\n",
       "  </thead>\n",
       "  <tbody>\n",
       "    <tr>\n",
       "      <th>count</th>\n",
       "      <td>898.000000</td>\n",
       "      <td>895.000000</td>\n",
       "    </tr>\n",
       "    <tr>\n",
       "      <th>mean</th>\n",
       "      <td>1992.943372</td>\n",
       "      <td>148.887151</td>\n",
       "    </tr>\n",
       "    <tr>\n",
       "      <th>std</th>\n",
       "      <td>288.685224</td>\n",
       "      <td>86.763078</td>\n",
       "    </tr>\n",
       "    <tr>\n",
       "      <th>min</th>\n",
       "      <td>1501.000000</td>\n",
       "      <td>0.000000</td>\n",
       "    </tr>\n",
       "    <tr>\n",
       "      <th>25%</th>\n",
       "      <td>1751.314618</td>\n",
       "      <td>70.000000</td>\n",
       "    </tr>\n",
       "    <tr>\n",
       "      <th>50%</th>\n",
       "      <td>1988.310480</td>\n",
       "      <td>148.000000</td>\n",
       "    </tr>\n",
       "    <tr>\n",
       "      <th>75%</th>\n",
       "      <td>2235.975207</td>\n",
       "      <td>221.000000</td>\n",
       "    </tr>\n",
       "    <tr>\n",
       "      <th>max</th>\n",
       "      <td>2499.120000</td>\n",
       "      <td>300.000000</td>\n",
       "    </tr>\n",
       "  </tbody>\n",
       "</table>\n",
       "</div>"
      ],
      "text/plain": [
       "             price      volume\n",
       "count   898.000000  895.000000\n",
       "mean   1992.943372  148.887151\n",
       "std     288.685224   86.763078\n",
       "min    1501.000000    0.000000\n",
       "25%    1751.314618   70.000000\n",
       "50%    1988.310480  148.000000\n",
       "75%    2235.975207  221.000000\n",
       "max    2499.120000  300.000000"
      ]
     },
     "execution_count": 7,
     "metadata": {},
     "output_type": "execute_result"
    }
   ],
   "source": [
    "df.describe()"
   ]
  },
  {
   "cell_type": "markdown",
   "metadata": {},
   "source": [
    "## Data Cleaning"
   ]
  },
  {
   "cell_type": "markdown",
   "metadata": {},
   "source": [
    "Trade dataset contains trading details for Amazon, Facebook, Tesla, however our objective is to find suspicous data for Amazon for Feb and March month. So dataset need to remove the unnecessary data from traders dataset."
   ]
  },
  {
   "cell_type": "code",
   "execution_count": 8,
   "metadata": {},
   "outputs": [
    {
     "name": "stdout",
     "output_type": "stream",
     "text": [
      "Traders dataset start date :  2020-01-06 00:00:00\n",
      "Traders dataset end date :  2020-08-01 00:00:00\n"
     ]
    }
   ],
   "source": [
    "# Date range of traders dataset\n",
    "print('Traders dataset start date : ',df['tradeDate'].min())\n",
    "print('Traders dataset end date : ',df['tradeDate'].max())"
   ]
  },
  {
   "cell_type": "code",
   "execution_count": 9,
   "metadata": {},
   "outputs": [
    {
     "data": {
      "text/plain": [
       "countryCode      205\n",
       "firstName        205\n",
       "lastName         205\n",
       "traderId         205\n",
       "stockSymbol       87\n",
       "stockName         87\n",
       "tradeId           91\n",
       "price            102\n",
       "volume           105\n",
       "tradeDatetime     98\n",
       "tradeDate         98\n",
       "dtype: int64"
      ]
     },
     "execution_count": 9,
     "metadata": {},
     "output_type": "execute_result"
    }
   ],
   "source": [
    "df.isnull().sum()"
   ]
  },
  {
   "cell_type": "code",
   "execution_count": 10,
   "metadata": {},
   "outputs": [
    {
     "data": {
      "text/plain": [
       "(1000, 11)"
      ]
     },
     "execution_count": 10,
     "metadata": {},
     "output_type": "execute_result"
    }
   ],
   "source": [
    "df.shape"
   ]
  },
  {
   "cell_type": "code",
   "execution_count": 11,
   "metadata": {},
   "outputs": [],
   "source": [
    "\n",
    "# Define function to filter dataset\n",
    "def filter_trader_data(df, company, start_date, end_date):\n",
    "    '''\n",
    "    Returns the filtered trader data based on company, start date and end date.\n",
    "\n",
    "    Parameters:\n",
    "        df (dataframe):The trader data which is to be filter.\n",
    "        company (string): Company by which trader data need to filter.\n",
    "        start_date (string) : Start date from where trader data require.\n",
    "        end_date (string) : End date till trader data require.\n",
    "        \n",
    "\n",
    "    Returns:\n",
    "        The trader dataframe which gets filtered.   \n",
    "    '''\n",
    "    return df[(df['stockSymbol']==company) & \n",
    "                            (df['tradeDate']>=start_date) & \n",
    "                            (df['tradeDatetime']<=end_date)].reset_index(drop=True)\n",
    "\n"
   ]
  },
  {
   "cell_type": "code",
   "execution_count": 12,
   "metadata": {},
   "outputs": [],
   "source": [
    "traders_data = filter_trader_data(df,'AMZN','2020-02-01','2020-03-31')"
   ]
  },
  {
   "cell_type": "code",
   "execution_count": 13,
   "metadata": {},
   "outputs": [
    {
     "data": {
      "text/plain": [
       "(98, 11)"
      ]
     },
     "execution_count": 13,
     "metadata": {},
     "output_type": "execute_result"
    }
   ],
   "source": [
    "traders_data.shape"
   ]
  },
  {
   "cell_type": "code",
   "execution_count": 14,
   "metadata": {
    "scrolled": true
   },
   "outputs": [
    {
     "name": "stdout",
     "output_type": "stream",
     "text": [
      "<class 'pandas.core.frame.DataFrame'>\n",
      "RangeIndex: 98 entries, 0 to 97\n",
      "Data columns (total 11 columns):\n",
      " #   Column         Non-Null Count  Dtype         \n",
      "---  ------         --------------  -----         \n",
      " 0   countryCode    74 non-null     object        \n",
      " 1   firstName      74 non-null     object        \n",
      " 2   lastName       74 non-null     object        \n",
      " 3   traderId       74 non-null     object        \n",
      " 4   stockSymbol    98 non-null     object        \n",
      " 5   stockName      98 non-null     object        \n",
      " 6   tradeId        92 non-null     object        \n",
      " 7   price          87 non-null     float64       \n",
      " 8   volume         85 non-null     float64       \n",
      " 9   tradeDatetime  98 non-null     datetime64[ns]\n",
      " 10  tradeDate      98 non-null     datetime64[ns]\n",
      "dtypes: datetime64[ns](2), float64(2), object(7)\n",
      "memory usage: 8.5+ KB\n"
     ]
    }
   ],
   "source": [
    "traders_data.info()"
   ]
  },
  {
   "cell_type": "code",
   "execution_count": 15,
   "metadata": {},
   "outputs": [
    {
     "data": {
      "text/html": [
       "<div>\n",
       "<style scoped>\n",
       "    .dataframe tbody tr th:only-of-type {\n",
       "        vertical-align: middle;\n",
       "    }\n",
       "\n",
       "    .dataframe tbody tr th {\n",
       "        vertical-align: top;\n",
       "    }\n",
       "\n",
       "    .dataframe thead th {\n",
       "        text-align: right;\n",
       "    }\n",
       "</style>\n",
       "<table border=\"1\" class=\"dataframe\">\n",
       "  <thead>\n",
       "    <tr style=\"text-align: right;\">\n",
       "      <th></th>\n",
       "      <th>Total</th>\n",
       "      <th>Percent</th>\n",
       "    </tr>\n",
       "  </thead>\n",
       "  <tbody>\n",
       "    <tr>\n",
       "      <th>traderId</th>\n",
       "      <td>24</td>\n",
       "      <td>24.489796</td>\n",
       "    </tr>\n",
       "    <tr>\n",
       "      <th>lastName</th>\n",
       "      <td>24</td>\n",
       "      <td>24.489796</td>\n",
       "    </tr>\n",
       "    <tr>\n",
       "      <th>firstName</th>\n",
       "      <td>24</td>\n",
       "      <td>24.489796</td>\n",
       "    </tr>\n",
       "    <tr>\n",
       "      <th>countryCode</th>\n",
       "      <td>24</td>\n",
       "      <td>24.489796</td>\n",
       "    </tr>\n",
       "    <tr>\n",
       "      <th>volume</th>\n",
       "      <td>13</td>\n",
       "      <td>13.265306</td>\n",
       "    </tr>\n",
       "    <tr>\n",
       "      <th>price</th>\n",
       "      <td>11</td>\n",
       "      <td>11.224490</td>\n",
       "    </tr>\n",
       "    <tr>\n",
       "      <th>tradeId</th>\n",
       "      <td>6</td>\n",
       "      <td>6.122449</td>\n",
       "    </tr>\n",
       "    <tr>\n",
       "      <th>tradeDate</th>\n",
       "      <td>0</td>\n",
       "      <td>0.000000</td>\n",
       "    </tr>\n",
       "    <tr>\n",
       "      <th>tradeDatetime</th>\n",
       "      <td>0</td>\n",
       "      <td>0.000000</td>\n",
       "    </tr>\n",
       "    <tr>\n",
       "      <th>stockName</th>\n",
       "      <td>0</td>\n",
       "      <td>0.000000</td>\n",
       "    </tr>\n",
       "    <tr>\n",
       "      <th>stockSymbol</th>\n",
       "      <td>0</td>\n",
       "      <td>0.000000</td>\n",
       "    </tr>\n",
       "  </tbody>\n",
       "</table>\n",
       "</div>"
      ],
      "text/plain": [
       "               Total    Percent\n",
       "traderId          24  24.489796\n",
       "lastName          24  24.489796\n",
       "firstName         24  24.489796\n",
       "countryCode       24  24.489796\n",
       "volume            13  13.265306\n",
       "price             11  11.224490\n",
       "tradeId            6   6.122449\n",
       "tradeDate          0   0.000000\n",
       "tradeDatetime      0   0.000000\n",
       "stockName          0   0.000000\n",
       "stockSymbol        0   0.000000"
      ]
     },
     "execution_count": 15,
     "metadata": {},
     "output_type": "execute_result"
    }
   ],
   "source": [
    "# Find missing data and their percentage\n",
    "total = traders_data.isnull().sum().sort_values(ascending=False)\n",
    "percent = ((traders_data.isnull().sum()/traders_data.isnull().count())*100).sort_values(ascending=False)\n",
    "missing_data = pd.concat([total, percent], axis=1, keys=['Total', 'Percent'])\n",
    "missing_data.head(20)"
   ]
  },
  {
   "cell_type": "markdown",
   "metadata": {},
   "source": [
    "About 24.5% of data are missing from firstName, lastName and countryCode. It will be not effective if will impute these missing values with their mode values. So, deleting the missing values somewhat usually not the best solution. However, it can be useful when most values in a column are missing."
   ]
  },
  {
   "cell_type": "code",
   "execution_count": 16,
   "metadata": {},
   "outputs": [
    {
     "name": "stdout",
     "output_type": "stream",
     "text": [
      "<class 'pandas.core.frame.DataFrame'>\n",
      "Int64Index: 55 entries, 0 to 97\n",
      "Data columns (total 11 columns):\n",
      " #   Column         Non-Null Count  Dtype         \n",
      "---  ------         --------------  -----         \n",
      " 0   countryCode    55 non-null     object        \n",
      " 1   firstName      55 non-null     object        \n",
      " 2   lastName       55 non-null     object        \n",
      " 3   traderId       55 non-null     object        \n",
      " 4   stockSymbol    55 non-null     object        \n",
      " 5   stockName      55 non-null     object        \n",
      " 6   tradeId        55 non-null     object        \n",
      " 7   price          55 non-null     float64       \n",
      " 8   volume         55 non-null     float64       \n",
      " 9   tradeDatetime  55 non-null     datetime64[ns]\n",
      " 10  tradeDate      55 non-null     datetime64[ns]\n",
      "dtypes: datetime64[ns](2), float64(2), object(7)\n",
      "memory usage: 5.2+ KB\n"
     ]
    }
   ],
   "source": [
    "\n",
    "# Deleting the missing values\n",
    "traders_data.dropna(axis=0, inplace=True)\n",
    "\n",
    "# Reset the index of traders dataset\n",
    "traders_data.reset_index(drop=True)\n",
    "\n",
    "# Finally check the summary of trader dataset\n",
    "traders_data.info()\n"
   ]
  },
  {
   "cell_type": "code",
   "execution_count": 17,
   "metadata": {},
   "outputs": [
    {
     "data": {
      "text/plain": [
       "False"
      ]
     },
     "execution_count": 17,
     "metadata": {},
     "output_type": "execute_result"
    }
   ],
   "source": [
    "traders_data[['tradeDate','tradeId']].isnull().values.any()"
   ]
  },
  {
   "cell_type": "code",
   "execution_count": 18,
   "metadata": {},
   "outputs": [],
   "source": [
    "Columns = ['countryCode', 'firstName', 'lastName', 'traderId', 'stockSymbol',\n",
    "       'stockName', 'tradeId', 'price', 'volume', 'tradeDate']\n",
    "\n",
    "# Selecting final columns\n",
    "TradersDataClean=traders_data[Columns]"
   ]
  },
  {
   "cell_type": "code",
   "execution_count": 19,
   "metadata": {},
   "outputs": [
    {
     "data": {
      "text/plain": [
       "Index(['countryCode', 'firstName', 'lastName', 'traderId', 'stockSymbol',\n",
       "       'stockName', 'tradeId'],\n",
       "      dtype='object')"
      ]
     },
     "execution_count": 19,
     "metadata": {},
     "output_type": "execute_result"
    }
   ],
   "source": [
    "# TradersDataClean.nunique()\n",
    "TradersDataClean.select_dtypes(include=\"O\").columns"
   ]
  },
  {
   "cell_type": "code",
   "execution_count": 20,
   "metadata": {},
   "outputs": [],
   "source": [
    "# Saving this final data for reference during deployment\n",
    "TradersDataClean.to_pickle('TradersDataClean.pkl')\n"
   ]
  },
  {
   "cell_type": "code",
   "execution_count": 21,
   "metadata": {},
   "outputs": [
    {
     "data": {
      "text/plain": [
       "Index(['countryCode', 'firstName', 'lastName', 'traderId', 'stockSymbol',\n",
       "       'stockName', 'tradeId'],\n",
       "      dtype='object')"
      ]
     },
     "execution_count": 21,
     "metadata": {},
     "output_type": "execute_result"
    }
   ],
   "source": [
    "# TradersDataClean.nunique()\n",
    "TradersDataClean.select_dtypes(include=\"O\").columns"
   ]
  },
  {
   "cell_type": "markdown",
   "metadata": {},
   "source": [
    "## Task\n",
    "We want to find traders which made suspicious orders. To be a suspicious orders we consider the \n",
    "following rules:\n",
    "- The trader has submitted an order above the high price/below the low price for a given day of a stock\n",
    "- The trader has submitted an order in a date when the stock was not traded\n",
    "\n",
    "If any suspicious orders are found, we want to do the following analysis:\n",
    "\n",
    "- If more than one trader is found, rank by number of suspicious orders per trader.\n",
    "- Try to find if there is a correlation between the nationality of the trader and the \n",
    "tendency to make suspicious orders "
   ]
  },
  {
   "cell_type": "code",
   "execution_count": 28,
   "metadata": {},
   "outputs": [],
   "source": [
    "def find_fraud_trader(df):\n",
    "    df['suspicious'] = True\n",
    "    df['suspicious'] = df.apply(lambda row:True if(pd.isnull(row['High']) | (row['price'] > row['High']) | (row['price'] < row['Low'])) else False, axis=1)\n",
    "    \n",
    "    return df"
   ]
  },
  {
   "cell_type": "code",
   "execution_count": 29,
   "metadata": {},
   "outputs": [
    {
     "name": "stdout",
     "output_type": "stream",
     "text": [
      "Number of trading :  1000\n"
     ]
    },
    {
     "ename": "KeyError",
     "evalue": "'suspicious'",
     "output_type": "error",
     "traceback": [
      "\u001b[0;31m---------------------------------------------------------------------------\u001b[0m",
      "\u001b[0;31mKeyError\u001b[0m                                  Traceback (most recent call last)",
      "\u001b[0;32m~/.local/lib/python3.8/site-packages/pandas/core/indexes/base.py\u001b[0m in \u001b[0;36mget_loc\u001b[0;34m(self, key, method, tolerance)\u001b[0m\n\u001b[1;32m   2645\u001b[0m             \u001b[0;32mtry\u001b[0m\u001b[0;34m:\u001b[0m\u001b[0;34m\u001b[0m\u001b[0;34m\u001b[0m\u001b[0m\n\u001b[0;32m-> 2646\u001b[0;31m                 \u001b[0;32mreturn\u001b[0m \u001b[0mself\u001b[0m\u001b[0;34m.\u001b[0m\u001b[0m_engine\u001b[0m\u001b[0;34m.\u001b[0m\u001b[0mget_loc\u001b[0m\u001b[0;34m(\u001b[0m\u001b[0mkey\u001b[0m\u001b[0;34m)\u001b[0m\u001b[0;34m\u001b[0m\u001b[0;34m\u001b[0m\u001b[0m\n\u001b[0m\u001b[1;32m   2647\u001b[0m             \u001b[0;32mexcept\u001b[0m \u001b[0mKeyError\u001b[0m\u001b[0;34m:\u001b[0m\u001b[0;34m\u001b[0m\u001b[0;34m\u001b[0m\u001b[0m\n",
      "\u001b[0;32mpandas/_libs/index.pyx\u001b[0m in \u001b[0;36mpandas._libs.index.IndexEngine.get_loc\u001b[0;34m()\u001b[0m\n",
      "\u001b[0;32mpandas/_libs/index.pyx\u001b[0m in \u001b[0;36mpandas._libs.index.IndexEngine.get_loc\u001b[0;34m()\u001b[0m\n",
      "\u001b[0;32mpandas/_libs/hashtable_class_helper.pxi\u001b[0m in \u001b[0;36mpandas._libs.hashtable.PyObjectHashTable.get_item\u001b[0;34m()\u001b[0m\n",
      "\u001b[0;32mpandas/_libs/hashtable_class_helper.pxi\u001b[0m in \u001b[0;36mpandas._libs.hashtable.PyObjectHashTable.get_item\u001b[0;34m()\u001b[0m\n",
      "\u001b[0;31mKeyError\u001b[0m: 'suspicious'",
      "\nDuring handling of the above exception, another exception occurred:\n",
      "\u001b[0;31mKeyError\u001b[0m                                  Traceback (most recent call last)",
      "\u001b[0;32m<ipython-input-29-71ab381dd387>\u001b[0m in \u001b[0;36m<module>\u001b[0;34m\u001b[0m\n\u001b[1;32m      1\u001b[0m \u001b[0mprint\u001b[0m\u001b[0;34m(\u001b[0m\u001b[0;34m\"Number of trading : \"\u001b[0m\u001b[0;34m,\u001b[0m\u001b[0mdf\u001b[0m\u001b[0;34m.\u001b[0m\u001b[0mshape\u001b[0m\u001b[0;34m[\u001b[0m\u001b[0;36m0\u001b[0m\u001b[0;34m]\u001b[0m\u001b[0;34m)\u001b[0m\u001b[0;34m\u001b[0m\u001b[0;34m\u001b[0m\u001b[0m\n\u001b[0;32m----> 2\u001b[0;31m \u001b[0mprint\u001b[0m\u001b[0;34m(\u001b[0m\u001b[0;34m\"Number of suspicious trading : \"\u001b[0m\u001b[0;34m,\u001b[0m\u001b[0mdf\u001b[0m\u001b[0;34m[\u001b[0m\u001b[0mdf\u001b[0m\u001b[0;34m[\u001b[0m\u001b[0;34m'suspicious'\u001b[0m\u001b[0;34m]\u001b[0m\u001b[0;34m==\u001b[0m\u001b[0;32mTrue\u001b[0m\u001b[0;34m]\u001b[0m\u001b[0;34m.\u001b[0m\u001b[0mshape\u001b[0m\u001b[0;34m[\u001b[0m\u001b[0;36m0\u001b[0m\u001b[0;34m]\u001b[0m\u001b[0;34m)\u001b[0m\u001b[0;34m\u001b[0m\u001b[0;34m\u001b[0m\u001b[0m\n\u001b[0m\u001b[1;32m      3\u001b[0m \u001b[0mprint\u001b[0m\u001b[0;34m(\u001b[0m\u001b[0;34m\"Number of genuine trading : \"\u001b[0m\u001b[0;34m,\u001b[0m\u001b[0mdf\u001b[0m\u001b[0;34m[\u001b[0m\u001b[0mdf\u001b[0m\u001b[0;34m[\u001b[0m\u001b[0;34m'suspicious'\u001b[0m\u001b[0;34m]\u001b[0m\u001b[0;34m==\u001b[0m\u001b[0;32mFalse\u001b[0m\u001b[0;34m]\u001b[0m\u001b[0;34m.\u001b[0m\u001b[0mshape\u001b[0m\u001b[0;34m[\u001b[0m\u001b[0;36m0\u001b[0m\u001b[0;34m]\u001b[0m\u001b[0;34m)\u001b[0m\u001b[0;34m\u001b[0m\u001b[0;34m\u001b[0m\u001b[0m\n",
      "\u001b[0;32m~/.local/lib/python3.8/site-packages/pandas/core/frame.py\u001b[0m in \u001b[0;36m__getitem__\u001b[0;34m(self, key)\u001b[0m\n\u001b[1;32m   2798\u001b[0m             \u001b[0;32mif\u001b[0m \u001b[0mself\u001b[0m\u001b[0;34m.\u001b[0m\u001b[0mcolumns\u001b[0m\u001b[0;34m.\u001b[0m\u001b[0mnlevels\u001b[0m \u001b[0;34m>\u001b[0m \u001b[0;36m1\u001b[0m\u001b[0;34m:\u001b[0m\u001b[0;34m\u001b[0m\u001b[0;34m\u001b[0m\u001b[0m\n\u001b[1;32m   2799\u001b[0m                 \u001b[0;32mreturn\u001b[0m \u001b[0mself\u001b[0m\u001b[0;34m.\u001b[0m\u001b[0m_getitem_multilevel\u001b[0m\u001b[0;34m(\u001b[0m\u001b[0mkey\u001b[0m\u001b[0;34m)\u001b[0m\u001b[0;34m\u001b[0m\u001b[0;34m\u001b[0m\u001b[0m\n\u001b[0;32m-> 2800\u001b[0;31m             \u001b[0mindexer\u001b[0m \u001b[0;34m=\u001b[0m \u001b[0mself\u001b[0m\u001b[0;34m.\u001b[0m\u001b[0mcolumns\u001b[0m\u001b[0;34m.\u001b[0m\u001b[0mget_loc\u001b[0m\u001b[0;34m(\u001b[0m\u001b[0mkey\u001b[0m\u001b[0;34m)\u001b[0m\u001b[0;34m\u001b[0m\u001b[0;34m\u001b[0m\u001b[0m\n\u001b[0m\u001b[1;32m   2801\u001b[0m             \u001b[0;32mif\u001b[0m \u001b[0mis_integer\u001b[0m\u001b[0;34m(\u001b[0m\u001b[0mindexer\u001b[0m\u001b[0;34m)\u001b[0m\u001b[0;34m:\u001b[0m\u001b[0;34m\u001b[0m\u001b[0;34m\u001b[0m\u001b[0m\n\u001b[1;32m   2802\u001b[0m                 \u001b[0mindexer\u001b[0m \u001b[0;34m=\u001b[0m \u001b[0;34m[\u001b[0m\u001b[0mindexer\u001b[0m\u001b[0;34m]\u001b[0m\u001b[0;34m\u001b[0m\u001b[0;34m\u001b[0m\u001b[0m\n",
      "\u001b[0;32m~/.local/lib/python3.8/site-packages/pandas/core/indexes/base.py\u001b[0m in \u001b[0;36mget_loc\u001b[0;34m(self, key, method, tolerance)\u001b[0m\n\u001b[1;32m   2646\u001b[0m                 \u001b[0;32mreturn\u001b[0m \u001b[0mself\u001b[0m\u001b[0;34m.\u001b[0m\u001b[0m_engine\u001b[0m\u001b[0;34m.\u001b[0m\u001b[0mget_loc\u001b[0m\u001b[0;34m(\u001b[0m\u001b[0mkey\u001b[0m\u001b[0;34m)\u001b[0m\u001b[0;34m\u001b[0m\u001b[0;34m\u001b[0m\u001b[0m\n\u001b[1;32m   2647\u001b[0m             \u001b[0;32mexcept\u001b[0m \u001b[0mKeyError\u001b[0m\u001b[0;34m:\u001b[0m\u001b[0;34m\u001b[0m\u001b[0;34m\u001b[0m\u001b[0m\n\u001b[0;32m-> 2648\u001b[0;31m                 \u001b[0;32mreturn\u001b[0m \u001b[0mself\u001b[0m\u001b[0;34m.\u001b[0m\u001b[0m_engine\u001b[0m\u001b[0;34m.\u001b[0m\u001b[0mget_loc\u001b[0m\u001b[0;34m(\u001b[0m\u001b[0mself\u001b[0m\u001b[0;34m.\u001b[0m\u001b[0m_maybe_cast_indexer\u001b[0m\u001b[0;34m(\u001b[0m\u001b[0mkey\u001b[0m\u001b[0;34m)\u001b[0m\u001b[0;34m)\u001b[0m\u001b[0;34m\u001b[0m\u001b[0;34m\u001b[0m\u001b[0m\n\u001b[0m\u001b[1;32m   2649\u001b[0m         \u001b[0mindexer\u001b[0m \u001b[0;34m=\u001b[0m \u001b[0mself\u001b[0m\u001b[0;34m.\u001b[0m\u001b[0mget_indexer\u001b[0m\u001b[0;34m(\u001b[0m\u001b[0;34m[\u001b[0m\u001b[0mkey\u001b[0m\u001b[0;34m]\u001b[0m\u001b[0;34m,\u001b[0m \u001b[0mmethod\u001b[0m\u001b[0;34m=\u001b[0m\u001b[0mmethod\u001b[0m\u001b[0;34m,\u001b[0m \u001b[0mtolerance\u001b[0m\u001b[0;34m=\u001b[0m\u001b[0mtolerance\u001b[0m\u001b[0;34m)\u001b[0m\u001b[0;34m\u001b[0m\u001b[0;34m\u001b[0m\u001b[0m\n\u001b[1;32m   2650\u001b[0m         \u001b[0;32mif\u001b[0m \u001b[0mindexer\u001b[0m\u001b[0;34m.\u001b[0m\u001b[0mndim\u001b[0m \u001b[0;34m>\u001b[0m \u001b[0;36m1\u001b[0m \u001b[0;32mor\u001b[0m \u001b[0mindexer\u001b[0m\u001b[0;34m.\u001b[0m\u001b[0msize\u001b[0m \u001b[0;34m>\u001b[0m \u001b[0;36m1\u001b[0m\u001b[0;34m:\u001b[0m\u001b[0;34m\u001b[0m\u001b[0;34m\u001b[0m\u001b[0m\n",
      "\u001b[0;32mpandas/_libs/index.pyx\u001b[0m in \u001b[0;36mpandas._libs.index.IndexEngine.get_loc\u001b[0;34m()\u001b[0m\n",
      "\u001b[0;32mpandas/_libs/index.pyx\u001b[0m in \u001b[0;36mpandas._libs.index.IndexEngine.get_loc\u001b[0;34m()\u001b[0m\n",
      "\u001b[0;32mpandas/_libs/hashtable_class_helper.pxi\u001b[0m in \u001b[0;36mpandas._libs.hashtable.PyObjectHashTable.get_item\u001b[0;34m()\u001b[0m\n",
      "\u001b[0;32mpandas/_libs/hashtable_class_helper.pxi\u001b[0m in \u001b[0;36mpandas._libs.hashtable.PyObjectHashTable.get_item\u001b[0;34m()\u001b[0m\n",
      "\u001b[0;31mKeyError\u001b[0m: 'suspicious'"
     ]
    }
   ],
   "source": [
    "print(\"Number of trading : \",df.shape[0])\n",
    "print(\"Number of suspicious trading : \",df[df['suspicious']==True].shape[0])\n",
    "print(\"Number of genuine trading : \",df[df['suspicious']==False].shape[0])"
   ]
  },
  {
   "cell_type": "code",
   "execution_count": null,
   "metadata": {},
   "outputs": [],
   "source": []
  }
 ],
 "metadata": {
  "kernelspec": {
   "display_name": "Python 3",
   "language": "python",
   "name": "python3"
  },
  "language_info": {
   "codemirror_mode": {
    "name": "ipython",
    "version": 3
   },
   "file_extension": ".py",
   "mimetype": "text/x-python",
   "name": "python",
   "nbconvert_exporter": "python",
   "pygments_lexer": "ipython3",
   "version": "3.8.5"
  }
 },
 "nbformat": 4,
 "nbformat_minor": 4
}
